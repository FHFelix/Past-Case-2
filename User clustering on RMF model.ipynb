{
 "cells": [
  {
   "cell_type": "markdown",
   "id": "e9cdde09-d1cb-40ff-8446-1c47f5441651",
   "metadata": {},
   "source": [
    "Here is my code"
   ]
  },
  {
   "cell_type": "code",
   "execution_count": 110,
   "id": "3fdaab0f-045a-42a1-a14b-c76f396f7053",
   "metadata": {},
   "outputs": [],
   "source": [
    "import pandas as pd \n",
    "import matplotlib.pyplot as plt \n",
    "import seaborn as sns \n",
    "import numpy as np\n",
    "#matplotlib inline\n",
    "from scipy import stats\n",
    "from sklearn.preprocessing import scale\n",
    "from sklearn.cluster import KMeans\n",
    "from scipy.cluster.hierarchy import linkage\n",
    "from scipy.cluster.hierarchy import dendrogram\n",
    "from scipy.cluster.hierarchy import cut_tree"
   ]
  },
  {
   "cell_type": "markdown",
   "id": "f0d9e5f7-3ad8-4e93-8c38-c7b82f260243",
   "metadata": {},
   "source": [
    "Display all the columns"
   ]
  },
  {
   "cell_type": "code",
   "execution_count": 2,
   "id": "7a9fb250-f0b9-492a-ade5-98d27f6abd34",
   "metadata": {},
   "outputs": [],
   "source": [
    "pd.set_option(\"display.max.columns\", None)"
   ]
  },
  {
   "cell_type": "markdown",
   "id": "33b6fe58-633c-481a-bf2d-40d442a537ce",
   "metadata": {},
   "source": [
    "Reading the Dataset that I have previously cleaned"
   ]
  },
  {
   "cell_type": "code",
   "execution_count": 3,
   "id": "8927ca74-2ab1-4fd9-8169-d7b7b1f8d7ca",
   "metadata": {},
   "outputs": [
    {
     "data": {
      "text/html": [
       "<div>\n",
       "<style scoped>\n",
       "    .dataframe tbody tr th:only-of-type {\n",
       "        vertical-align: middle;\n",
       "    }\n",
       "\n",
       "    .dataframe tbody tr th {\n",
       "        vertical-align: top;\n",
       "    }\n",
       "\n",
       "    .dataframe thead th {\n",
       "        text-align: right;\n",
       "    }\n",
       "</style>\n",
       "<table border=\"1\" class=\"dataframe\">\n",
       "  <thead>\n",
       "    <tr style=\"text-align: right;\">\n",
       "      <th></th>\n",
       "      <th>TransactionNo</th>\n",
       "      <th>MerchandiseCode</th>\n",
       "      <th>Quanlity</th>\n",
       "      <th>TransactionDate</th>\n",
       "      <th>ItemPrice</th>\n",
       "    </tr>\n",
       "    <tr>\n",
       "      <th>UserID</th>\n",
       "      <th></th>\n",
       "      <th></th>\n",
       "      <th></th>\n",
       "      <th></th>\n",
       "      <th></th>\n",
       "    </tr>\n",
       "  </thead>\n",
       "  <tbody>\n",
       "    <tr>\n",
       "      <th>208163.0</th>\n",
       "      <td>29138841</td>\n",
       "      <td>85123A</td>\n",
       "      <td>8</td>\n",
       "      <td>2020/9/1</td>\n",
       "      <td>2.76</td>\n",
       "    </tr>\n",
       "    <tr>\n",
       "      <th>208163.0</th>\n",
       "      <td>29138841</td>\n",
       "      <td>71053</td>\n",
       "      <td>8</td>\n",
       "      <td>2020/9/1</td>\n",
       "      <td>2.12</td>\n",
       "    </tr>\n",
       "    <tr>\n",
       "      <th>208163.0</th>\n",
       "      <td>29138841</td>\n",
       "      <td>84406B</td>\n",
       "      <td>8</td>\n",
       "      <td>2020/9/1</td>\n",
       "      <td>5.12</td>\n",
       "    </tr>\n",
       "    <tr>\n",
       "      <th>208163.0</th>\n",
       "      <td>29138841</td>\n",
       "      <td>84029G</td>\n",
       "      <td>8</td>\n",
       "      <td>2020/9/1</td>\n",
       "      <td>4.33</td>\n",
       "    </tr>\n",
       "    <tr>\n",
       "      <th>208163.0</th>\n",
       "      <td>29138841</td>\n",
       "      <td>84029E</td>\n",
       "      <td>8</td>\n",
       "      <td>2020/9/1</td>\n",
       "      <td>3.39</td>\n",
       "    </tr>\n",
       "  </tbody>\n",
       "</table>\n",
       "</div>"
      ],
      "text/plain": [
       "         TransactionNo MerchandiseCode  Quanlity TransactionDate  ItemPrice\n",
       "UserID                                                                     \n",
       "208163.0      29138841          85123A         8        2020/9/1       2.76\n",
       "208163.0      29138841           71053         8        2020/9/1       2.12\n",
       "208163.0      29138841          84406B         8        2020/9/1       5.12\n",
       "208163.0      29138841          84029G         8        2020/9/1       4.33\n",
       "208163.0      29138841          84029E         8        2020/9/1       3.39"
      ]
     },
     "execution_count": 3,
     "metadata": {},
     "output_type": "execute_result"
    }
   ],
   "source": [
    "data = pd.read_csv('/Users/haitonghuang/Downloads/Online_Retail.csv',index_col='UserID')\n",
    "data.head()"
   ]
  },
  {
   "cell_type": "markdown",
   "id": "8c80be74-f4d0-4cf9-a1bd-504db6be2927",
   "metadata": {},
   "source": [
    "parse date & Sanity Check"
   ]
  },
  {
   "cell_type": "code",
   "execution_count": 5,
   "id": "0b3859a4-aca4-4f3f-8ef1-3b7d8827f613",
   "metadata": {},
   "outputs": [
    {
     "data": {
      "text/plain": [
       "(541909, 5)"
      ]
     },
     "execution_count": 5,
     "metadata": {},
     "output_type": "execute_result"
    }
   ],
   "source": [
    "\n",
    "data['TransactionDate'] = pd.to_datetime(data['TransactionDate'], format = '%Y-%m-%d')\n",
    "\n",
    "data.shape\n",
    "\n"
   ]
  },
  {
   "cell_type": "code",
   "execution_count": 6,
   "id": "f4e6be1c-e978-49b4-9905-00f76e4f8499",
   "metadata": {},
   "outputs": [
    {
     "data": {
      "text/html": [
       "<div>\n",
       "<style scoped>\n",
       "    .dataframe tbody tr th:only-of-type {\n",
       "        vertical-align: middle;\n",
       "    }\n",
       "\n",
       "    .dataframe tbody tr th {\n",
       "        vertical-align: top;\n",
       "    }\n",
       "\n",
       "    .dataframe thead th {\n",
       "        text-align: right;\n",
       "    }\n",
       "</style>\n",
       "<table border=\"1\" class=\"dataframe\">\n",
       "  <thead>\n",
       "    <tr style=\"text-align: right;\">\n",
       "      <th></th>\n",
       "      <th>Quanlity</th>\n",
       "      <th>ItemPrice</th>\n",
       "    </tr>\n",
       "  </thead>\n",
       "  <tbody>\n",
       "    <tr>\n",
       "      <th>count</th>\n",
       "      <td>541909.000000</td>\n",
       "      <td>541909.000000</td>\n",
       "    </tr>\n",
       "    <tr>\n",
       "      <th>mean</th>\n",
       "      <td>9.551611</td>\n",
       "      <td>4.611127</td>\n",
       "    </tr>\n",
       "    <tr>\n",
       "      <th>std</th>\n",
       "      <td>218.080464</td>\n",
       "      <td>96.759853</td>\n",
       "    </tr>\n",
       "    <tr>\n",
       "      <th>min</th>\n",
       "      <td>-80995.000000</td>\n",
       "      <td>-11062.060000</td>\n",
       "    </tr>\n",
       "    <tr>\n",
       "      <th>25%</th>\n",
       "      <td>1.000000</td>\n",
       "      <td>1.250000</td>\n",
       "    </tr>\n",
       "    <tr>\n",
       "      <th>50%</th>\n",
       "      <td>3.000000</td>\n",
       "      <td>2.080000</td>\n",
       "    </tr>\n",
       "    <tr>\n",
       "      <th>75%</th>\n",
       "      <td>10.000000</td>\n",
       "      <td>4.130000</td>\n",
       "    </tr>\n",
       "    <tr>\n",
       "      <th>max</th>\n",
       "      <td>80995.000000</td>\n",
       "      <td>38970.000000</td>\n",
       "    </tr>\n",
       "  </tbody>\n",
       "</table>\n",
       "</div>"
      ],
      "text/plain": [
       "            Quanlity      ItemPrice\n",
       "count  541909.000000  541909.000000\n",
       "mean        9.551611       4.611127\n",
       "std       218.080464      96.759853\n",
       "min    -80995.000000  -11062.060000\n",
       "25%         1.000000       1.250000\n",
       "50%         3.000000       2.080000\n",
       "75%        10.000000       4.130000\n",
       "max     80995.000000   38970.000000"
      ]
     },
     "execution_count": 6,
     "metadata": {},
     "output_type": "execute_result"
    }
   ],
   "source": [
    "data.describe()"
   ]
  },
  {
   "cell_type": "code",
   "execution_count": 7,
   "id": "ab6421c8-943b-4ebd-b39a-343722a11cce",
   "metadata": {},
   "outputs": [
    {
     "name": "stdout",
     "output_type": "stream",
     "text": [
      "<class 'pandas.core.frame.DataFrame'>\n",
      "Float64Index: 541909 entries, 208163.0 to 3661883.0\n",
      "Data columns (total 5 columns):\n",
      " #   Column           Non-Null Count   Dtype         \n",
      "---  ------           --------------   -----         \n",
      " 0   TransactionNo    541909 non-null  object        \n",
      " 1   MerchandiseCode  541909 non-null  object        \n",
      " 2   Quanlity         541909 non-null  int64         \n",
      " 3   TransactionDate  541909 non-null  datetime64[ns]\n",
      " 4   ItemPrice        541909 non-null  float64       \n",
      "dtypes: datetime64[ns](1), float64(1), int64(1), object(2)\n",
      "memory usage: 24.8+ MB\n"
     ]
    }
   ],
   "source": [
    "data.info()"
   ]
  },
  {
   "cell_type": "markdown",
   "id": "814e4c73-0800-4c28-aa82-021d9f440a68",
   "metadata": {},
   "source": [
    "Now Let's drop the Null values (There are no Null values it is because I have re)"
   ]
  },
  {
   "cell_type": "code",
   "execution_count": 12,
   "id": "8123c7e7-a818-4fb2-9736-c55c3e24b8e1",
   "metadata": {},
   "outputs": [
    {
     "data": {
      "text/plain": [
       "(541909, 5)"
      ]
     },
     "execution_count": 12,
     "metadata": {},
     "output_type": "execute_result"
    }
   ],
   "source": [
    "order_wise = data.dropna()\n",
    "# another Sanity check\n",
    "order_wise.shape"
   ]
  },
  {
   "cell_type": "markdown",
   "id": "685550f7-7a9b-494b-8bb4-e0ce68ece8e5",
   "metadata": {},
   "source": [
    "Now let's generate the columns in order to implement the RFM model"
   ]
  },
  {
   "cell_type": "markdown",
   "id": "d2811183-9b88-4897-a8d2-915e8df26a9b",
   "metadata": {},
   "source": [
    "By multiplying the Quantity and unit Price we can have the first columns - **Monetary** (Here I wrote in simple words 'Amount')"
   ]
  },
  {
   "cell_type": "code",
   "execution_count": 13,
   "id": "34ab9780-5068-40ea-a496-448f6028433d",
   "metadata": {},
   "outputs": [
    {
     "data": {
      "text/html": [
       "<div>\n",
       "<style scoped>\n",
       "    .dataframe tbody tr th:only-of-type {\n",
       "        vertical-align: middle;\n",
       "    }\n",
       "\n",
       "    .dataframe tbody tr th {\n",
       "        vertical-align: top;\n",
       "    }\n",
       "\n",
       "    .dataframe thead th {\n",
       "        text-align: right;\n",
       "    }\n",
       "</style>\n",
       "<table border=\"1\" class=\"dataframe\">\n",
       "  <thead>\n",
       "    <tr style=\"text-align: right;\">\n",
       "      <th></th>\n",
       "      <th>Amount</th>\n",
       "    </tr>\n",
       "    <tr>\n",
       "      <th>UserID</th>\n",
       "      <th></th>\n",
       "    </tr>\n",
       "  </thead>\n",
       "  <tbody>\n",
       "    <tr>\n",
       "      <th>208163.0</th>\n",
       "      <td>22.08</td>\n",
       "    </tr>\n",
       "    <tr>\n",
       "      <th>208163.0</th>\n",
       "      <td>16.96</td>\n",
       "    </tr>\n",
       "    <tr>\n",
       "      <th>208163.0</th>\n",
       "      <td>40.96</td>\n",
       "    </tr>\n",
       "    <tr>\n",
       "      <th>208163.0</th>\n",
       "      <td>34.64</td>\n",
       "    </tr>\n",
       "    <tr>\n",
       "      <th>208163.0</th>\n",
       "      <td>27.12</td>\n",
       "    </tr>\n",
       "  </tbody>\n",
       "</table>\n",
       "</div>"
      ],
      "text/plain": [
       "          Amount\n",
       "UserID          \n",
       "208163.0   22.08\n",
       "208163.0   16.96\n",
       "208163.0   40.96\n",
       "208163.0   34.64\n",
       "208163.0   27.12"
      ]
     },
     "execution_count": 13,
     "metadata": {},
     "output_type": "execute_result"
    }
   ],
   "source": [
    "amount  = pd.DataFrame(data.Quanlity * data.ItemPrice, columns = [\"Amount\"])\n",
    "amount.head()"
   ]
  },
  {
   "cell_type": "markdown",
   "id": "3fc53fb6-3176-4b26-9305-8e719e863fe5",
   "metadata": {},
   "source": [
    "merging the column 'amount' into the order_wise"
   ]
  },
  {
   "cell_type": "code",
   "execution_count": 16,
   "id": "3052ba25-303c-4416-a4a9-861a5eeef134",
   "metadata": {},
   "outputs": [
    {
     "data": {
      "text/html": [
       "<div>\n",
       "<style scoped>\n",
       "    .dataframe tbody tr th:only-of-type {\n",
       "        vertical-align: middle;\n",
       "    }\n",
       "\n",
       "    .dataframe tbody tr th {\n",
       "        vertical-align: top;\n",
       "    }\n",
       "\n",
       "    .dataframe thead th {\n",
       "        text-align: right;\n",
       "    }\n",
       "</style>\n",
       "<table border=\"1\" class=\"dataframe\">\n",
       "  <thead>\n",
       "    <tr style=\"text-align: right;\">\n",
       "      <th></th>\n",
       "      <th>TransactionNo</th>\n",
       "      <th>MerchandiseCode</th>\n",
       "      <th>Quanlity</th>\n",
       "      <th>TransactionDate</th>\n",
       "      <th>ItemPrice</th>\n",
       "      <th>Amount</th>\n",
       "    </tr>\n",
       "    <tr>\n",
       "      <th>UserID</th>\n",
       "      <th></th>\n",
       "      <th></th>\n",
       "      <th></th>\n",
       "      <th></th>\n",
       "      <th></th>\n",
       "      <th></th>\n",
       "    </tr>\n",
       "  </thead>\n",
       "  <tbody>\n",
       "    <tr>\n",
       "      <th>208163.0</th>\n",
       "      <td>29138841</td>\n",
       "      <td>85123A</td>\n",
       "      <td>8</td>\n",
       "      <td>2020-09-01</td>\n",
       "      <td>2.76</td>\n",
       "      <td>22.08</td>\n",
       "    </tr>\n",
       "    <tr>\n",
       "      <th>208163.0</th>\n",
       "      <td>29138841</td>\n",
       "      <td>71053</td>\n",
       "      <td>8</td>\n",
       "      <td>2020-09-01</td>\n",
       "      <td>2.12</td>\n",
       "      <td>16.96</td>\n",
       "    </tr>\n",
       "    <tr>\n",
       "      <th>208163.0</th>\n",
       "      <td>29138841</td>\n",
       "      <td>84406B</td>\n",
       "      <td>8</td>\n",
       "      <td>2020-09-01</td>\n",
       "      <td>5.12</td>\n",
       "      <td>40.96</td>\n",
       "    </tr>\n",
       "    <tr>\n",
       "      <th>208163.0</th>\n",
       "      <td>29138841</td>\n",
       "      <td>84029G</td>\n",
       "      <td>8</td>\n",
       "      <td>2020-09-01</td>\n",
       "      <td>4.33</td>\n",
       "      <td>34.64</td>\n",
       "    </tr>\n",
       "    <tr>\n",
       "      <th>208163.0</th>\n",
       "      <td>29138841</td>\n",
       "      <td>84029E</td>\n",
       "      <td>8</td>\n",
       "      <td>2020-09-01</td>\n",
       "      <td>3.39</td>\n",
       "      <td>27.12</td>\n",
       "    </tr>\n",
       "    <tr>\n",
       "      <th>...</th>\n",
       "      <td>...</td>\n",
       "      <td>...</td>\n",
       "      <td>...</td>\n",
       "      <td>...</td>\n",
       "      <td>...</td>\n",
       "      <td>...</td>\n",
       "    </tr>\n",
       "    <tr>\n",
       "      <th>3661883.0</th>\n",
       "      <td>761375437</td>\n",
       "      <td>22613</td>\n",
       "      <td>12</td>\n",
       "      <td>2020-12-09</td>\n",
       "      <td>0.85</td>\n",
       "      <td>10.20</td>\n",
       "    </tr>\n",
       "    <tr>\n",
       "      <th>3661883.0</th>\n",
       "      <td>761375437</td>\n",
       "      <td>22899</td>\n",
       "      <td>12</td>\n",
       "      <td>2020-12-09</td>\n",
       "      <td>2.10</td>\n",
       "      <td>25.20</td>\n",
       "    </tr>\n",
       "    <tr>\n",
       "      <th>3661883.0</th>\n",
       "      <td>761375437</td>\n",
       "      <td>23254</td>\n",
       "      <td>4</td>\n",
       "      <td>2020-12-09</td>\n",
       "      <td>2.13</td>\n",
       "      <td>8.52</td>\n",
       "    </tr>\n",
       "    <tr>\n",
       "      <th>3661883.0</th>\n",
       "      <td>761375437</td>\n",
       "      <td>23255</td>\n",
       "      <td>34</td>\n",
       "      <td>2020-12-09</td>\n",
       "      <td>4.15</td>\n",
       "      <td>141.10</td>\n",
       "    </tr>\n",
       "    <tr>\n",
       "      <th>3661883.0</th>\n",
       "      <td>761375437</td>\n",
       "      <td>22138</td>\n",
       "      <td>5</td>\n",
       "      <td>2020-12-09</td>\n",
       "      <td>4.76</td>\n",
       "      <td>23.80</td>\n",
       "    </tr>\n",
       "  </tbody>\n",
       "</table>\n",
       "<p>541909 rows × 6 columns</p>\n",
       "</div>"
      ],
      "text/plain": [
       "          TransactionNo MerchandiseCode  Quanlity TransactionDate  ItemPrice  \\\n",
       "UserID                                                                         \n",
       "208163.0       29138841          85123A         8      2020-09-01       2.76   \n",
       "208163.0       29138841           71053         8      2020-09-01       2.12   \n",
       "208163.0       29138841          84406B         8      2020-09-01       5.12   \n",
       "208163.0       29138841          84029G         8      2020-09-01       4.33   \n",
       "208163.0       29138841          84029E         8      2020-09-01       3.39   \n",
       "...                 ...             ...       ...             ...        ...   \n",
       "3661883.0     761375437           22613        12      2020-12-09       0.85   \n",
       "3661883.0     761375437           22899        12      2020-12-09       2.10   \n",
       "3661883.0     761375437           23254         4      2020-12-09       2.13   \n",
       "3661883.0     761375437           23255        34      2020-12-09       4.15   \n",
       "3661883.0     761375437           22138         5      2020-12-09       4.76   \n",
       "\n",
       "           Amount  \n",
       "UserID             \n",
       "208163.0    22.08  \n",
       "208163.0    16.96  \n",
       "208163.0    40.96  \n",
       "208163.0    34.64  \n",
       "208163.0    27.12  \n",
       "...           ...  \n",
       "3661883.0   10.20  \n",
       "3661883.0   25.20  \n",
       "3661883.0    8.52  \n",
       "3661883.0  141.10  \n",
       "3661883.0   23.80  \n",
       "\n",
       "[541909 rows x 6 columns]"
      ]
     },
     "execution_count": 16,
     "metadata": {},
     "output_type": "execute_result"
    }
   ],
   "source": [
    "order_wise = pd.concat(objs = [data, amount], axis = 1, ignore_index = False)\n",
    "order_wise"
   ]
  },
  {
   "cell_type": "markdown",
   "id": "f7fe901f-f63a-4674-8bc5-ef6de6dc584e",
   "metadata": {},
   "source": [
    "Group By each UserID and calculate each User's totoal amount spent on advertisement"
   ]
  },
  {
   "cell_type": "code",
   "execution_count": 19,
   "id": "ab25dc2a-b52e-45f7-9719-380eea8cabd3",
   "metadata": {},
   "outputs": [
    {
     "data": {
      "text/html": [
       "<div>\n",
       "<style scoped>\n",
       "    .dataframe tbody tr th:only-of-type {\n",
       "        vertical-align: middle;\n",
       "    }\n",
       "\n",
       "    .dataframe tbody tr th {\n",
       "        vertical-align: top;\n",
       "    }\n",
       "\n",
       "    .dataframe thead th {\n",
       "        text-align: right;\n",
       "    }\n",
       "</style>\n",
       "<table border=\"1\" class=\"dataframe\">\n",
       "  <thead>\n",
       "    <tr style=\"text-align: right;\">\n",
       "      <th></th>\n",
       "      <th>UserID</th>\n",
       "      <th>Amount</th>\n",
       "    </tr>\n",
       "  </thead>\n",
       "  <tbody>\n",
       "    <tr>\n",
       "      <th>0</th>\n",
       "      <td>12346.0</td>\n",
       "      <td>0.00</td>\n",
       "    </tr>\n",
       "    <tr>\n",
       "      <th>1</th>\n",
       "      <td>12347.0</td>\n",
       "      <td>4310.00</td>\n",
       "    </tr>\n",
       "    <tr>\n",
       "      <th>2</th>\n",
       "      <td>12348.0</td>\n",
       "      <td>1797.24</td>\n",
       "    </tr>\n",
       "    <tr>\n",
       "      <th>3</th>\n",
       "      <td>12349.0</td>\n",
       "      <td>1757.55</td>\n",
       "    </tr>\n",
       "    <tr>\n",
       "      <th>4</th>\n",
       "      <td>12350.0</td>\n",
       "      <td>334.40</td>\n",
       "    </tr>\n",
       "  </tbody>\n",
       "</table>\n",
       "</div>"
      ],
      "text/plain": [
       "    UserID   Amount\n",
       "0  12346.0     0.00\n",
       "1  12347.0  4310.00\n",
       "2  12348.0  1797.24\n",
       "3  12349.0  1757.55\n",
       "4  12350.0   334.40"
      ]
     },
     "execution_count": 19,
     "metadata": {},
     "output_type": "execute_result"
    }
   ],
   "source": [
    "monetary = order_wise.groupby(\"UserID\").Amount.sum()\n",
    "monetary = monetary.reset_index()\n",
    "monetary.head()"
   ]
  },
  {
   "cell_type": "code",
   "execution_count": 20,
   "id": "0efefd74-b7ad-4d9c-a239-96627c43ce31",
   "metadata": {},
   "outputs": [
    {
     "data": {
      "text/html": [
       "<div>\n",
       "<style scoped>\n",
       "    .dataframe tbody tr th:only-of-type {\n",
       "        vertical-align: middle;\n",
       "    }\n",
       "\n",
       "    .dataframe tbody tr th {\n",
       "        vertical-align: top;\n",
       "    }\n",
       "\n",
       "    .dataframe thead th {\n",
       "        text-align: right;\n",
       "    }\n",
       "</style>\n",
       "<table border=\"1\" class=\"dataframe\">\n",
       "  <thead>\n",
       "    <tr style=\"text-align: right;\">\n",
       "      <th></th>\n",
       "      <th>UserID</th>\n",
       "      <th>TransactionNo</th>\n",
       "      <th>MerchandiseCode</th>\n",
       "      <th>Quanlity</th>\n",
       "      <th>TransactionDate</th>\n",
       "      <th>ItemPrice</th>\n",
       "      <th>Amount</th>\n",
       "    </tr>\n",
       "  </thead>\n",
       "  <tbody>\n",
       "    <tr>\n",
       "      <th>0</th>\n",
       "      <td>208163.0</td>\n",
       "      <td>29138841</td>\n",
       "      <td>85123A</td>\n",
       "      <td>8</td>\n",
       "      <td>2020-09-01</td>\n",
       "      <td>2.76</td>\n",
       "      <td>22.08</td>\n",
       "    </tr>\n",
       "    <tr>\n",
       "      <th>1</th>\n",
       "      <td>208163.0</td>\n",
       "      <td>29138841</td>\n",
       "      <td>71053</td>\n",
       "      <td>8</td>\n",
       "      <td>2020-09-01</td>\n",
       "      <td>2.12</td>\n",
       "      <td>16.96</td>\n",
       "    </tr>\n",
       "    <tr>\n",
       "      <th>2</th>\n",
       "      <td>208163.0</td>\n",
       "      <td>29138841</td>\n",
       "      <td>84406B</td>\n",
       "      <td>8</td>\n",
       "      <td>2020-09-01</td>\n",
       "      <td>5.12</td>\n",
       "      <td>40.96</td>\n",
       "    </tr>\n",
       "    <tr>\n",
       "      <th>3</th>\n",
       "      <td>208163.0</td>\n",
       "      <td>29138841</td>\n",
       "      <td>84029G</td>\n",
       "      <td>8</td>\n",
       "      <td>2020-09-01</td>\n",
       "      <td>4.33</td>\n",
       "      <td>34.64</td>\n",
       "    </tr>\n",
       "    <tr>\n",
       "      <th>4</th>\n",
       "      <td>208163.0</td>\n",
       "      <td>29138841</td>\n",
       "      <td>84029E</td>\n",
       "      <td>8</td>\n",
       "      <td>2020-09-01</td>\n",
       "      <td>3.39</td>\n",
       "      <td>27.12</td>\n",
       "    </tr>\n",
       "    <tr>\n",
       "      <th>...</th>\n",
       "      <td>...</td>\n",
       "      <td>...</td>\n",
       "      <td>...</td>\n",
       "      <td>...</td>\n",
       "      <td>...</td>\n",
       "      <td>...</td>\n",
       "      <td>...</td>\n",
       "    </tr>\n",
       "    <tr>\n",
       "      <th>541904</th>\n",
       "      <td>3661883.0</td>\n",
       "      <td>761375437</td>\n",
       "      <td>22613</td>\n",
       "      <td>12</td>\n",
       "      <td>2020-12-09</td>\n",
       "      <td>0.85</td>\n",
       "      <td>10.20</td>\n",
       "    </tr>\n",
       "    <tr>\n",
       "      <th>541905</th>\n",
       "      <td>3661883.0</td>\n",
       "      <td>761375437</td>\n",
       "      <td>22899</td>\n",
       "      <td>12</td>\n",
       "      <td>2020-12-09</td>\n",
       "      <td>2.10</td>\n",
       "      <td>25.20</td>\n",
       "    </tr>\n",
       "    <tr>\n",
       "      <th>541906</th>\n",
       "      <td>3661883.0</td>\n",
       "      <td>761375437</td>\n",
       "      <td>23254</td>\n",
       "      <td>4</td>\n",
       "      <td>2020-12-09</td>\n",
       "      <td>2.13</td>\n",
       "      <td>8.52</td>\n",
       "    </tr>\n",
       "    <tr>\n",
       "      <th>541907</th>\n",
       "      <td>3661883.0</td>\n",
       "      <td>761375437</td>\n",
       "      <td>23255</td>\n",
       "      <td>34</td>\n",
       "      <td>2020-12-09</td>\n",
       "      <td>4.15</td>\n",
       "      <td>141.10</td>\n",
       "    </tr>\n",
       "    <tr>\n",
       "      <th>541908</th>\n",
       "      <td>3661883.0</td>\n",
       "      <td>761375437</td>\n",
       "      <td>22138</td>\n",
       "      <td>5</td>\n",
       "      <td>2020-12-09</td>\n",
       "      <td>4.76</td>\n",
       "      <td>23.80</td>\n",
       "    </tr>\n",
       "  </tbody>\n",
       "</table>\n",
       "<p>541909 rows × 7 columns</p>\n",
       "</div>"
      ],
      "text/plain": [
       "           UserID TransactionNo MerchandiseCode  Quanlity TransactionDate  \\\n",
       "0        208163.0      29138841          85123A         8      2020-09-01   \n",
       "1        208163.0      29138841           71053         8      2020-09-01   \n",
       "2        208163.0      29138841          84406B         8      2020-09-01   \n",
       "3        208163.0      29138841          84029G         8      2020-09-01   \n",
       "4        208163.0      29138841          84029E         8      2020-09-01   \n",
       "...           ...           ...             ...       ...             ...   \n",
       "541904  3661883.0     761375437           22613        12      2020-12-09   \n",
       "541905  3661883.0     761375437           22899        12      2020-12-09   \n",
       "541906  3661883.0     761375437           23254         4      2020-12-09   \n",
       "541907  3661883.0     761375437           23255        34      2020-12-09   \n",
       "541908  3661883.0     761375437           22138         5      2020-12-09   \n",
       "\n",
       "        ItemPrice  Amount  \n",
       "0            2.76   22.08  \n",
       "1            2.12   16.96  \n",
       "2            5.12   40.96  \n",
       "3            4.33   34.64  \n",
       "4            3.39   27.12  \n",
       "...           ...     ...  \n",
       "541904       0.85   10.20  \n",
       "541905       2.10   25.20  \n",
       "541906       2.13    8.52  \n",
       "541907       4.15  141.10  \n",
       "541908       4.76   23.80  \n",
       "\n",
       "[541909 rows x 7 columns]"
      ]
     },
     "execution_count": 20,
     "metadata": {},
     "output_type": "execute_result"
    }
   ],
   "source": [
    "order_wise = order_wise.reset_index()\n",
    "order_wise"
   ]
  },
  {
   "cell_type": "markdown",
   "id": "557516f0-8075-429f-9dc6-25691d37f18f",
   "metadata": {},
   "source": [
    "Frequency function \\\n",
    "Group by each UserID to count their transactions"
   ]
  },
  {
   "cell_type": "code",
   "execution_count": 23,
   "id": "a1044bf7-d8f0-4c57-b145-46bd2b3b3fbe",
   "metadata": {},
   "outputs": [
    {
     "data": {
      "text/html": [
       "<div>\n",
       "<style scoped>\n",
       "    .dataframe tbody tr th:only-of-type {\n",
       "        vertical-align: middle;\n",
       "    }\n",
       "\n",
       "    .dataframe tbody tr th {\n",
       "        vertical-align: top;\n",
       "    }\n",
       "\n",
       "    .dataframe thead th {\n",
       "        text-align: right;\n",
       "    }\n",
       "</style>\n",
       "<table border=\"1\" class=\"dataframe\">\n",
       "  <thead>\n",
       "    <tr style=\"text-align: right;\">\n",
       "      <th></th>\n",
       "      <th>UserID</th>\n",
       "      <th>Frequency</th>\n",
       "    </tr>\n",
       "  </thead>\n",
       "  <tbody>\n",
       "    <tr>\n",
       "      <th>0</th>\n",
       "      <td>12346.0</td>\n",
       "      <td>2</td>\n",
       "    </tr>\n",
       "    <tr>\n",
       "      <th>1</th>\n",
       "      <td>12347.0</td>\n",
       "      <td>182</td>\n",
       "    </tr>\n",
       "    <tr>\n",
       "      <th>2</th>\n",
       "      <td>12348.0</td>\n",
       "      <td>31</td>\n",
       "    </tr>\n",
       "    <tr>\n",
       "      <th>3</th>\n",
       "      <td>12349.0</td>\n",
       "      <td>73</td>\n",
       "    </tr>\n",
       "    <tr>\n",
       "      <th>4</th>\n",
       "      <td>12350.0</td>\n",
       "      <td>17</td>\n",
       "    </tr>\n",
       "  </tbody>\n",
       "</table>\n",
       "</div>"
      ],
      "text/plain": [
       "    UserID  Frequency\n",
       "0  12346.0          2\n",
       "1  12347.0        182\n",
       "2  12348.0         31\n",
       "3  12349.0         73\n",
       "4  12350.0         17"
      ]
     },
     "execution_count": 23,
     "metadata": {},
     "output_type": "execute_result"
    }
   ],
   "source": [
    "frequency = order_wise[['UserID', 'TransactionNo']]\n",
    "# Getting the count of orders made by each customer based on customer ID.\n",
    "k = frequency.groupby(\"UserID\").TransactionNo.count()\n",
    "k = pd.DataFrame(k)\n",
    "k = k.reset_index()\n",
    "#s = k['UserID'].agg('count')\n",
    "k.columns = [\"UserID\", \"Frequency\"]\n",
    "k.head()"
   ]
  },
  {
   "cell_type": "markdown",
   "id": "b562f15e-3ab8-41ca-8ba0-2d6922aa4b36",
   "metadata": {},
   "source": [
    "Now Let's merge the two dataframes we just created"
   ]
  },
  {
   "cell_type": "code",
   "execution_count": 24,
   "id": "be9892f5-dbf4-4be7-a264-ce44c89d09c5",
   "metadata": {},
   "outputs": [
    {
     "data": {
      "text/html": [
       "<div>\n",
       "<style scoped>\n",
       "    .dataframe tbody tr th:only-of-type {\n",
       "        vertical-align: middle;\n",
       "    }\n",
       "\n",
       "    .dataframe tbody tr th {\n",
       "        vertical-align: top;\n",
       "    }\n",
       "\n",
       "    .dataframe thead th {\n",
       "        text-align: right;\n",
       "    }\n",
       "</style>\n",
       "<table border=\"1\" class=\"dataframe\">\n",
       "  <thead>\n",
       "    <tr style=\"text-align: right;\">\n",
       "      <th></th>\n",
       "      <th>UserID</th>\n",
       "      <th>Amount</th>\n",
       "      <th>Frequency</th>\n",
       "    </tr>\n",
       "  </thead>\n",
       "  <tbody>\n",
       "    <tr>\n",
       "      <th>0</th>\n",
       "      <td>12346.0</td>\n",
       "      <td>0.00</td>\n",
       "      <td>2</td>\n",
       "    </tr>\n",
       "    <tr>\n",
       "      <th>1</th>\n",
       "      <td>12347.0</td>\n",
       "      <td>4310.00</td>\n",
       "      <td>182</td>\n",
       "    </tr>\n",
       "    <tr>\n",
       "      <th>2</th>\n",
       "      <td>12348.0</td>\n",
       "      <td>1797.24</td>\n",
       "      <td>31</td>\n",
       "    </tr>\n",
       "    <tr>\n",
       "      <th>3</th>\n",
       "      <td>12349.0</td>\n",
       "      <td>1757.55</td>\n",
       "      <td>73</td>\n",
       "    </tr>\n",
       "    <tr>\n",
       "      <th>4</th>\n",
       "      <td>12350.0</td>\n",
       "      <td>334.40</td>\n",
       "      <td>17</td>\n",
       "    </tr>\n",
       "  </tbody>\n",
       "</table>\n",
       "</div>"
      ],
      "text/plain": [
       "    UserID   Amount  Frequency\n",
       "0  12346.0     0.00          2\n",
       "1  12347.0  4310.00        182\n",
       "2  12348.0  1797.24         31\n",
       "3  12349.0  1757.55         73\n",
       "4  12350.0   334.40         17"
      ]
     },
     "execution_count": 24,
     "metadata": {},
     "output_type": "execute_result"
    }
   ],
   "source": [
    "final_data = monetary.merge(k, on = \"UserID\", how = \"inner\")\n",
    "final_data.head()"
   ]
  },
  {
   "cell_type": "markdown",
   "id": "6458a5b5-d69b-45d4-bb99-cb8fc0d94088",
   "metadata": {},
   "source": [
    "Now in order to run the RFM model we still need to generate one more column which is **Rencency** \\\n",
    "Generating recency function\n"
   ]
  },
  {
   "cell_type": "code",
   "execution_count": 31,
   "id": "fe9cc15e-8e03-4943-9b31-509e3144e31b",
   "metadata": {},
   "outputs": [
    {
     "name": "stderr",
     "output_type": "stream",
     "text": [
      "/var/folders/vm/t0kfdtyd4j976j7k67x7nvpw0000gn/T/ipykernel_16517/10482871.py:6: SettingWithCopyWarning: \n",
      "A value is trying to be set on a copy of a slice from a DataFrame.\n",
      "Try using .loc[row_indexer,col_indexer] = value instead\n",
      "\n",
      "See the caveats in the documentation: https://pandas.pydata.org/pandas-docs/stable/user_guide/indexing.html#returning-a-view-versus-a-copy\n",
      "  recency['diff'] = maximum - recency.TransactionDate\n"
     ]
    },
    {
     "data": {
      "text/html": [
       "<div>\n",
       "<style scoped>\n",
       "    .dataframe tbody tr th:only-of-type {\n",
       "        vertical-align: middle;\n",
       "    }\n",
       "\n",
       "    .dataframe tbody tr th {\n",
       "        vertical-align: top;\n",
       "    }\n",
       "\n",
       "    .dataframe thead th {\n",
       "        text-align: right;\n",
       "    }\n",
       "</style>\n",
       "<table border=\"1\" class=\"dataframe\">\n",
       "  <thead>\n",
       "    <tr style=\"text-align: right;\">\n",
       "      <th></th>\n",
       "      <th>UserID</th>\n",
       "      <th>TransactionDate</th>\n",
       "      <th>diff</th>\n",
       "    </tr>\n",
       "  </thead>\n",
       "  <tbody>\n",
       "    <tr>\n",
       "      <th>0</th>\n",
       "      <td>208163.0</td>\n",
       "      <td>2020-09-01</td>\n",
       "      <td>99 days</td>\n",
       "    </tr>\n",
       "    <tr>\n",
       "      <th>1</th>\n",
       "      <td>208163.0</td>\n",
       "      <td>2020-09-01</td>\n",
       "      <td>99 days</td>\n",
       "    </tr>\n",
       "    <tr>\n",
       "      <th>2</th>\n",
       "      <td>208163.0</td>\n",
       "      <td>2020-09-01</td>\n",
       "      <td>99 days</td>\n",
       "    </tr>\n",
       "    <tr>\n",
       "      <th>3</th>\n",
       "      <td>208163.0</td>\n",
       "      <td>2020-09-01</td>\n",
       "      <td>99 days</td>\n",
       "    </tr>\n",
       "    <tr>\n",
       "      <th>4</th>\n",
       "      <td>208163.0</td>\n",
       "      <td>2020-09-01</td>\n",
       "      <td>99 days</td>\n",
       "    </tr>\n",
       "  </tbody>\n",
       "</table>\n",
       "</div>"
      ],
      "text/plain": [
       "     UserID TransactionDate    diff\n",
       "0  208163.0      2020-09-01 99 days\n",
       "1  208163.0      2020-09-01 99 days\n",
       "2  208163.0      2020-09-01 99 days\n",
       "3  208163.0      2020-09-01 99 days\n",
       "4  208163.0      2020-09-01 99 days"
      ]
     },
     "execution_count": 31,
     "metadata": {},
     "output_type": "execute_result"
    }
   ],
   "source": [
    "recency  = order_wise[['UserID','TransactionDate']]\n",
    "# Finding max data\n",
    "maximum = max(recency.TransactionDate) #the closest transaction date\n",
    "# Adding one more day to the max data, so that the max date will have 1 as the difference and not zero.\n",
    "\n",
    "recency['diff'] = maximum - recency.TransactionDate\n",
    "recency.head()"
   ]
  },
  {
   "cell_type": "markdown",
   "id": "baca6ac7-8266-4ea7-9f22-06e7ed5da082",
   "metadata": {},
   "source": [
    "Same as the previous column group recency by UserID"
   ]
  },
  {
   "cell_type": "code",
   "execution_count": 33,
   "id": "277afb41-0247-4590-82e0-ca33e6f76288",
   "metadata": {},
   "outputs": [
    {
     "data": {
      "text/html": [
       "<div>\n",
       "<style scoped>\n",
       "    .dataframe tbody tr th:only-of-type {\n",
       "        vertical-align: middle;\n",
       "    }\n",
       "\n",
       "    .dataframe tbody tr th {\n",
       "        vertical-align: top;\n",
       "    }\n",
       "\n",
       "    .dataframe thead th {\n",
       "        text-align: right;\n",
       "    }\n",
       "</style>\n",
       "<table border=\"1\" class=\"dataframe\">\n",
       "  <thead>\n",
       "    <tr style=\"text-align: right;\">\n",
       "      <th></th>\n",
       "      <th>UserID</th>\n",
       "      <th>Recency</th>\n",
       "    </tr>\n",
       "  </thead>\n",
       "  <tbody>\n",
       "    <tr>\n",
       "      <th>0</th>\n",
       "      <td>12346.0</td>\n",
       "      <td>326 days</td>\n",
       "    </tr>\n",
       "    <tr>\n",
       "      <th>1</th>\n",
       "      <td>12347.0</td>\n",
       "      <td>2 days</td>\n",
       "    </tr>\n",
       "    <tr>\n",
       "      <th>2</th>\n",
       "      <td>12348.0</td>\n",
       "      <td>75 days</td>\n",
       "    </tr>\n",
       "    <tr>\n",
       "      <th>3</th>\n",
       "      <td>12349.0</td>\n",
       "      <td>18 days</td>\n",
       "    </tr>\n",
       "    <tr>\n",
       "      <th>4</th>\n",
       "      <td>12350.0</td>\n",
       "      <td>311 days</td>\n",
       "    </tr>\n",
       "  </tbody>\n",
       "</table>\n",
       "</div>"
      ],
      "text/plain": [
       "    UserID  Recency\n",
       "0  12346.0 326 days\n",
       "1  12347.0   2 days\n",
       "2  12348.0  75 days\n",
       "3  12349.0  18 days\n",
       "4  12350.0 311 days"
      ]
     },
     "execution_count": 33,
     "metadata": {},
     "output_type": "execute_result"
    }
   ],
   "source": [
    "a = recency.groupby('UserID')\n",
    "df = pd.DataFrame(recency.groupby('UserID')['diff'].agg('min'))\n",
    "df = df.reset_index()\n",
    "df.columns = [\"UserID\", \"Recency\"]\n",
    "df.head()"
   ]
  },
  {
   "cell_type": "markdown",
   "id": "23e90317-e7a3-425d-aa0f-a22bddfd94f7",
   "metadata": {},
   "source": [
    "Now we have finished setting up the RFM model now let's combine all recency, frequency and monetary parameters"
   ]
  },
  {
   "cell_type": "code",
   "execution_count": 38,
   "id": "d3f79bf9-cfee-4db0-a82d-308c0135bc06",
   "metadata": {},
   "outputs": [
    {
     "data": {
      "text/html": [
       "<div>\n",
       "<style scoped>\n",
       "    .dataframe tbody tr th:only-of-type {\n",
       "        vertical-align: middle;\n",
       "    }\n",
       "\n",
       "    .dataframe tbody tr th {\n",
       "        vertical-align: top;\n",
       "    }\n",
       "\n",
       "    .dataframe thead th {\n",
       "        text-align: right;\n",
       "    }\n",
       "</style>\n",
       "<table border=\"1\" class=\"dataframe\">\n",
       "  <thead>\n",
       "    <tr style=\"text-align: right;\">\n",
       "      <th></th>\n",
       "      <th>UserID</th>\n",
       "      <th>Frequency</th>\n",
       "      <th>Amount</th>\n",
       "      <th>Recency</th>\n",
       "    </tr>\n",
       "  </thead>\n",
       "  <tbody>\n",
       "    <tr>\n",
       "      <th>0</th>\n",
       "      <td>12346.0</td>\n",
       "      <td>2</td>\n",
       "      <td>0.00</td>\n",
       "      <td>326 days</td>\n",
       "    </tr>\n",
       "    <tr>\n",
       "      <th>1</th>\n",
       "      <td>12347.0</td>\n",
       "      <td>182</td>\n",
       "      <td>4310.00</td>\n",
       "      <td>2 days</td>\n",
       "    </tr>\n",
       "    <tr>\n",
       "      <th>2</th>\n",
       "      <td>12348.0</td>\n",
       "      <td>31</td>\n",
       "      <td>1797.24</td>\n",
       "      <td>75 days</td>\n",
       "    </tr>\n",
       "    <tr>\n",
       "      <th>3</th>\n",
       "      <td>12349.0</td>\n",
       "      <td>73</td>\n",
       "      <td>1757.55</td>\n",
       "      <td>18 days</td>\n",
       "    </tr>\n",
       "    <tr>\n",
       "      <th>4</th>\n",
       "      <td>12350.0</td>\n",
       "      <td>17</td>\n",
       "      <td>334.40</td>\n",
       "      <td>311 days</td>\n",
       "    </tr>\n",
       "  </tbody>\n",
       "</table>\n",
       "</div>"
      ],
      "text/plain": [
       "    UserID  Frequency   Amount  Recency\n",
       "0  12346.0          2     0.00 326 days\n",
       "1  12347.0        182  4310.00   2 days\n",
       "2  12348.0         31  1797.24  75 days\n",
       "3  12349.0         73  1757.55  18 days\n",
       "4  12350.0         17   334.40 311 days"
      ]
     },
     "execution_count": 38,
     "metadata": {},
     "output_type": "execute_result"
    }
   ],
   "source": [
    "RFM = k.merge(monetary, on = \"UserID\")\n",
    "RFM = RFM.merge(df, on = \"UserID\")\n",
    "RFM.head()\n"
   ]
  },
  {
   "cell_type": "markdown",
   "id": "0632b22b-923a-4f73-9296-09a2c7f953c8",
   "metadata": {},
   "source": [
    "Remove the word days at the end of the Recency column"
   ]
  },
  {
   "cell_type": "code",
   "execution_count": 39,
   "id": "8bc79f5f-1101-4003-a9d5-6b5abe9418f9",
   "metadata": {},
   "outputs": [],
   "source": [
    "RFM.Recency = RFM.Recency.dt.days"
   ]
  },
  {
   "cell_type": "code",
   "execution_count": 61,
   "id": "ccfdc9be-fcee-4d46-ad82-7aec258dd633",
   "metadata": {},
   "outputs": [
    {
     "data": {
      "text/html": [
       "<div>\n",
       "<style scoped>\n",
       "    .dataframe tbody tr th:only-of-type {\n",
       "        vertical-align: middle;\n",
       "    }\n",
       "\n",
       "    .dataframe tbody tr th {\n",
       "        vertical-align: top;\n",
       "    }\n",
       "\n",
       "    .dataframe thead th {\n",
       "        text-align: right;\n",
       "    }\n",
       "</style>\n",
       "<table border=\"1\" class=\"dataframe\">\n",
       "  <thead>\n",
       "    <tr style=\"text-align: right;\">\n",
       "      <th></th>\n",
       "      <th>UserID</th>\n",
       "      <th>Frequency</th>\n",
       "      <th>Amount</th>\n",
       "      <th>Recency</th>\n",
       "    </tr>\n",
       "  </thead>\n",
       "  <tbody>\n",
       "    <tr>\n",
       "      <th>2</th>\n",
       "      <td>12348.0</td>\n",
       "      <td>31</td>\n",
       "      <td>1797.24</td>\n",
       "      <td>75</td>\n",
       "    </tr>\n",
       "    <tr>\n",
       "      <th>3</th>\n",
       "      <td>12349.0</td>\n",
       "      <td>73</td>\n",
       "      <td>1757.55</td>\n",
       "      <td>18</td>\n",
       "    </tr>\n",
       "    <tr>\n",
       "      <th>5</th>\n",
       "      <td>12352.0</td>\n",
       "      <td>95</td>\n",
       "      <td>1545.41</td>\n",
       "      <td>36</td>\n",
       "    </tr>\n",
       "    <tr>\n",
       "      <th>6</th>\n",
       "      <td>12353.0</td>\n",
       "      <td>4</td>\n",
       "      <td>89.00</td>\n",
       "      <td>204</td>\n",
       "    </tr>\n",
       "    <tr>\n",
       "      <th>7</th>\n",
       "      <td>12354.0</td>\n",
       "      <td>58</td>\n",
       "      <td>1079.40</td>\n",
       "      <td>232</td>\n",
       "    </tr>\n",
       "    <tr>\n",
       "      <th>...</th>\n",
       "      <td>...</td>\n",
       "      <td>...</td>\n",
       "      <td>...</td>\n",
       "      <td>...</td>\n",
       "    </tr>\n",
       "    <tr>\n",
       "      <th>4361</th>\n",
       "      <td>18281.0</td>\n",
       "      <td>7</td>\n",
       "      <td>80.82</td>\n",
       "      <td>180</td>\n",
       "    </tr>\n",
       "    <tr>\n",
       "      <th>4362</th>\n",
       "      <td>18282.0</td>\n",
       "      <td>13</td>\n",
       "      <td>176.60</td>\n",
       "      <td>7</td>\n",
       "    </tr>\n",
       "    <tr>\n",
       "      <th>4364</th>\n",
       "      <td>18287.0</td>\n",
       "      <td>70</td>\n",
       "      <td>1837.28</td>\n",
       "      <td>42</td>\n",
       "    </tr>\n",
       "    <tr>\n",
       "      <th>4369</th>\n",
       "      <td>1725481.0</td>\n",
       "      <td>28</td>\n",
       "      <td>345.66</td>\n",
       "      <td>58</td>\n",
       "    </tr>\n",
       "    <tr>\n",
       "      <th>4371</th>\n",
       "      <td>3661883.0</td>\n",
       "      <td>52</td>\n",
       "      <td>1148.86</td>\n",
       "      <td>0</td>\n",
       "    </tr>\n",
       "  </tbody>\n",
       "</table>\n",
       "<p>2885 rows × 4 columns</p>\n",
       "</div>"
      ],
      "text/plain": [
       "         UserID  Frequency   Amount  Recency\n",
       "2       12348.0         31  1797.24       75\n",
       "3       12349.0         73  1757.55       18\n",
       "5       12352.0         95  1545.41       36\n",
       "6       12353.0          4    89.00      204\n",
       "7       12354.0         58  1079.40      232\n",
       "...         ...        ...      ...      ...\n",
       "4361    18281.0          7    80.82      180\n",
       "4362    18282.0         13   176.60        7\n",
       "4364    18287.0         70  1837.28       42\n",
       "4369  1725481.0         28   345.66       58\n",
       "4371  3661883.0         52  1148.86        0\n",
       "\n",
       "[2885 rows x 4 columns]"
      ]
     },
     "execution_count": 61,
     "metadata": {},
     "output_type": "execute_result"
    }
   ],
   "source": [
    "RFM"
   ]
  },
  {
   "cell_type": "code",
   "execution_count": 62,
   "id": "2cb8e8c0-ef09-4a58-aa9f-0dbca3a8f5ab",
   "metadata": {},
   "outputs": [],
   "source": [
    "RFM_norm1 = RFM.drop(RFM[RFM['Amount'] == 0].index, inplace=True)\n",
    "RFM_norm1 = RFM.drop(RFM[RFM['Frequency'] == 0].index, inplace=True)"
   ]
  },
  {
   "cell_type": "code",
   "execution_count": 63,
   "id": "c619cb5e-6396-4371-bb99-6fd93a698db0",
   "metadata": {},
   "outputs": [
    {
     "data": {
      "text/html": [
       "<div>\n",
       "<style scoped>\n",
       "    .dataframe tbody tr th:only-of-type {\n",
       "        vertical-align: middle;\n",
       "    }\n",
       "\n",
       "    .dataframe tbody tr th {\n",
       "        vertical-align: top;\n",
       "    }\n",
       "\n",
       "    .dataframe thead th {\n",
       "        text-align: right;\n",
       "    }\n",
       "</style>\n",
       "<table border=\"1\" class=\"dataframe\">\n",
       "  <thead>\n",
       "    <tr style=\"text-align: right;\">\n",
       "      <th></th>\n",
       "      <th>UserID</th>\n",
       "      <th>Frequency</th>\n",
       "      <th>Amount</th>\n",
       "      <th>Recency</th>\n",
       "    </tr>\n",
       "  </thead>\n",
       "  <tbody>\n",
       "    <tr>\n",
       "      <th>2</th>\n",
       "      <td>12348.0</td>\n",
       "      <td>31</td>\n",
       "      <td>1797.24</td>\n",
       "      <td>75</td>\n",
       "    </tr>\n",
       "    <tr>\n",
       "      <th>3</th>\n",
       "      <td>12349.0</td>\n",
       "      <td>73</td>\n",
       "      <td>1757.55</td>\n",
       "      <td>18</td>\n",
       "    </tr>\n",
       "    <tr>\n",
       "      <th>5</th>\n",
       "      <td>12352.0</td>\n",
       "      <td>95</td>\n",
       "      <td>1545.41</td>\n",
       "      <td>36</td>\n",
       "    </tr>\n",
       "    <tr>\n",
       "      <th>6</th>\n",
       "      <td>12353.0</td>\n",
       "      <td>4</td>\n",
       "      <td>89.00</td>\n",
       "      <td>204</td>\n",
       "    </tr>\n",
       "    <tr>\n",
       "      <th>7</th>\n",
       "      <td>12354.0</td>\n",
       "      <td>58</td>\n",
       "      <td>1079.40</td>\n",
       "      <td>232</td>\n",
       "    </tr>\n",
       "    <tr>\n",
       "      <th>...</th>\n",
       "      <td>...</td>\n",
       "      <td>...</td>\n",
       "      <td>...</td>\n",
       "      <td>...</td>\n",
       "    </tr>\n",
       "    <tr>\n",
       "      <th>4361</th>\n",
       "      <td>18281.0</td>\n",
       "      <td>7</td>\n",
       "      <td>80.82</td>\n",
       "      <td>180</td>\n",
       "    </tr>\n",
       "    <tr>\n",
       "      <th>4362</th>\n",
       "      <td>18282.0</td>\n",
       "      <td>13</td>\n",
       "      <td>176.60</td>\n",
       "      <td>7</td>\n",
       "    </tr>\n",
       "    <tr>\n",
       "      <th>4364</th>\n",
       "      <td>18287.0</td>\n",
       "      <td>70</td>\n",
       "      <td>1837.28</td>\n",
       "      <td>42</td>\n",
       "    </tr>\n",
       "    <tr>\n",
       "      <th>4369</th>\n",
       "      <td>1725481.0</td>\n",
       "      <td>28</td>\n",
       "      <td>345.66</td>\n",
       "      <td>58</td>\n",
       "    </tr>\n",
       "    <tr>\n",
       "      <th>4371</th>\n",
       "      <td>3661883.0</td>\n",
       "      <td>52</td>\n",
       "      <td>1148.86</td>\n",
       "      <td>0</td>\n",
       "    </tr>\n",
       "  </tbody>\n",
       "</table>\n",
       "<p>2885 rows × 4 columns</p>\n",
       "</div>"
      ],
      "text/plain": [
       "         UserID  Frequency   Amount  Recency\n",
       "2       12348.0         31  1797.24       75\n",
       "3       12349.0         73  1757.55       18\n",
       "5       12352.0         95  1545.41       36\n",
       "6       12353.0          4    89.00      204\n",
       "7       12354.0         58  1079.40      232\n",
       "...         ...        ...      ...      ...\n",
       "4361    18281.0          7    80.82      180\n",
       "4362    18282.0         13   176.60        7\n",
       "4364    18287.0         70  1837.28       42\n",
       "4369  1725481.0         28   345.66       58\n",
       "4371  3661883.0         52  1148.86        0\n",
       "\n",
       "[2885 rows x 4 columns]"
      ]
     },
     "execution_count": 63,
     "metadata": {},
     "output_type": "execute_result"
    }
   ],
   "source": [
    "RFM"
   ]
  },
  {
   "cell_type": "markdown",
   "id": "b72c38f8-0caa-4ec7-88b4-b9e8571289ba",
   "metadata": {},
   "source": [
    "Now Let's plot the box plot and remove the outliers"
   ]
  },
  {
   "cell_type": "code",
   "execution_count": 64,
   "id": "f7e0b027-5c8c-4f65-8bbb-26329172f04a",
   "metadata": {},
   "outputs": [
    {
     "data": {
      "image/png": "[encoded data removed]",
      "text/plain": [
       "<Figure size 432x288 with 1 Axes>"
      ]
     },
     "metadata": {
      "needs_background": "light"
     },
     "output_type": "display_data"
    }
   ],
   "source": [
    "# outlier treatment for Amount\n",
    "plt.boxplot(RFM.Amount)\n",
    "Q1 = RFM.Amount.quantile(0.25)\n",
    "Q3 = RFM.Amount.quantile(0.75)\n",
    "IQR = Q3 - Q1\n",
    "RFM = RFM[(RFM.Amount >= (Q1 - 1.5*IQR)) & (RFM.Amount <= (Q3 + 1.5*IQR))]\n",
    "\n"
   ]
  },
  {
   "cell_type": "code",
   "execution_count": 65,
   "id": "c49a78d3-c2b4-4096-9fa6-080265add0ef",
   "metadata": {},
   "outputs": [
    {
     "data": {
      "image/png": "[encoded data removed]",
      "text/plain": [
       "<Figure size 432x288 with 1 Axes>"
      ]
     },
     "metadata": {
      "needs_background": "light"
     },
     "output_type": "display_data"
    }
   ],
   "source": [
    "# outlier treatment for Frequency\n",
    "plt.boxplot(RFM.Frequency)\n",
    "Q1 = RFM.Frequency.quantile(0.25)\n",
    "Q3 = RFM.Frequency.quantile(0.75)\n",
    "IQR = Q3 - Q1\n",
    "RFM = RFM[(RFM.Frequency >= Q1 - 1.5*IQR) & (RFM.Frequency <= Q3 + 1.5*IQR)]\n"
   ]
  },
  {
   "cell_type": "code",
   "execution_count": 66,
   "id": "16a3eba2-4906-4ac2-ac81-bad50233cff3",
   "metadata": {},
   "outputs": [
    {
     "data": {
      "image/png": "[encoded data removed]",
      "text/plain": [
       "<Figure size 432x288 with 1 Axes>"
      ]
     },
     "metadata": {
      "needs_background": "light"
     },
     "output_type": "display_data"
    }
   ],
   "source": [
    "# outlier treatment for Recency\n",
    "plt.boxplot(RFM.Recency)\n",
    "Q1 = RFM.Recency.quantile(0.25)\n",
    "Q3 = RFM.Recency.quantile(0.75)\n",
    "IQR = Q3 - Q1\n",
    "RFM = RFM[(RFM.Recency >= Q1 - 1.5*IQR) & (RFM.Recency <= Q3 + 1.5*IQR)]\n"
   ]
  },
  {
   "cell_type": "code",
   "execution_count": 67,
   "id": "4fba1114-ba99-46b3-bb8d-fe1a54d8f3f6",
   "metadata": {},
   "outputs": [],
   "source": [
    "# Drop the outliers according to the box plot\n",
    "RFM_norm1 = RFM.drop(RFM[RFM['Amount'] > 2000].index, inplace=True)\n",
    "RFM_norm1 = RFM.drop(RFM[RFM['Frequency'] > 120].index, inplace=True)\n",
    "RFM_norm1 = RFM.drop(RFM[RFM['Recency'] > 250].index, inplace=True)"
   ]
  },
  {
   "cell_type": "markdown",
   "id": "1f6e7c29-a606-49a7-a34f-e7c9488f4770",
   "metadata": {},
   "source": [
    "After removing the outliers now we have 2810 unique users in our data frame"
   ]
  },
  {
   "cell_type": "code",
   "execution_count": 72,
   "id": "dd3be1df-ec47-4378-8342-0bafb75298d6",
   "metadata": {},
   "outputs": [
    {
     "data": {
      "text/html": [
       "<div>\n",
       "<style scoped>\n",
       "    .dataframe tbody tr th:only-of-type {\n",
       "        vertical-align: middle;\n",
       "    }\n",
       "\n",
       "    .dataframe tbody tr th {\n",
       "        vertical-align: top;\n",
       "    }\n",
       "\n",
       "    .dataframe thead th {\n",
       "        text-align: right;\n",
       "    }\n",
       "</style>\n",
       "<table border=\"1\" class=\"dataframe\">\n",
       "  <thead>\n",
       "    <tr style=\"text-align: right;\">\n",
       "      <th></th>\n",
       "      <th>UserID</th>\n",
       "      <th>Frequency</th>\n",
       "      <th>Amount</th>\n",
       "      <th>Recency</th>\n",
       "    </tr>\n",
       "  </thead>\n",
       "  <tbody>\n",
       "    <tr>\n",
       "      <th>2</th>\n",
       "      <td>12348.0</td>\n",
       "      <td>31</td>\n",
       "      <td>1797.24</td>\n",
       "      <td>75</td>\n",
       "    </tr>\n",
       "    <tr>\n",
       "      <th>3</th>\n",
       "      <td>12349.0</td>\n",
       "      <td>73</td>\n",
       "      <td>1757.55</td>\n",
       "      <td>18</td>\n",
       "    </tr>\n",
       "    <tr>\n",
       "      <th>5</th>\n",
       "      <td>12352.0</td>\n",
       "      <td>95</td>\n",
       "      <td>1545.41</td>\n",
       "      <td>36</td>\n",
       "    </tr>\n",
       "    <tr>\n",
       "      <th>6</th>\n",
       "      <td>12353.0</td>\n",
       "      <td>4</td>\n",
       "      <td>89.00</td>\n",
       "      <td>204</td>\n",
       "    </tr>\n",
       "    <tr>\n",
       "      <th>7</th>\n",
       "      <td>12354.0</td>\n",
       "      <td>58</td>\n",
       "      <td>1079.40</td>\n",
       "      <td>232</td>\n",
       "    </tr>\n",
       "    <tr>\n",
       "      <th>...</th>\n",
       "      <td>...</td>\n",
       "      <td>...</td>\n",
       "      <td>...</td>\n",
       "      <td>...</td>\n",
       "    </tr>\n",
       "    <tr>\n",
       "      <th>4359</th>\n",
       "      <td>18278.0</td>\n",
       "      <td>9</td>\n",
       "      <td>173.90</td>\n",
       "      <td>73</td>\n",
       "    </tr>\n",
       "    <tr>\n",
       "      <th>4361</th>\n",
       "      <td>18281.0</td>\n",
       "      <td>7</td>\n",
       "      <td>80.82</td>\n",
       "      <td>180</td>\n",
       "    </tr>\n",
       "    <tr>\n",
       "      <th>4362</th>\n",
       "      <td>18282.0</td>\n",
       "      <td>13</td>\n",
       "      <td>176.60</td>\n",
       "      <td>7</td>\n",
       "    </tr>\n",
       "    <tr>\n",
       "      <th>4369</th>\n",
       "      <td>1725481.0</td>\n",
       "      <td>28</td>\n",
       "      <td>345.66</td>\n",
       "      <td>58</td>\n",
       "    </tr>\n",
       "    <tr>\n",
       "      <th>4371</th>\n",
       "      <td>3661883.0</td>\n",
       "      <td>52</td>\n",
       "      <td>1148.86</td>\n",
       "      <td>0</td>\n",
       "    </tr>\n",
       "  </tbody>\n",
       "</table>\n",
       "<p>2810 rows × 4 columns</p>\n",
       "</div>"
      ],
      "text/plain": [
       "         UserID  Frequency   Amount  Recency\n",
       "2       12348.0         31  1797.24       75\n",
       "3       12349.0         73  1757.55       18\n",
       "5       12352.0         95  1545.41       36\n",
       "6       12353.0          4    89.00      204\n",
       "7       12354.0         58  1079.40      232\n",
       "...         ...        ...      ...      ...\n",
       "4359    18278.0          9   173.90       73\n",
       "4361    18281.0          7    80.82      180\n",
       "4362    18282.0         13   176.60        7\n",
       "4369  1725481.0         28   345.66       58\n",
       "4371  3661883.0         52  1148.86        0\n",
       "\n",
       "[2810 rows x 4 columns]"
      ]
     },
     "execution_count": 72,
     "metadata": {},
     "output_type": "execute_result"
    }
   ],
   "source": [
    "RFM"
   ]
  },
  {
   "cell_type": "code",
   "execution_count": 73,
   "id": "0cbf7f7c-0a4b-400b-9d3b-5f410187363a",
   "metadata": {},
   "outputs": [],
   "source": [
    "RFM_norm1 = RFM.drop([\"UserID\"], axis=1)"
   ]
  },
  {
   "cell_type": "code",
   "execution_count": 74,
   "id": "8ecb79dc-23ac-45b8-a4ce-4c19ce4ace89",
   "metadata": {},
   "outputs": [
    {
     "data": {
      "text/html": [
       "<div>\n",
       "<style scoped>\n",
       "    .dataframe tbody tr th:only-of-type {\n",
       "        vertical-align: middle;\n",
       "    }\n",
       "\n",
       "    .dataframe tbody tr th {\n",
       "        vertical-align: top;\n",
       "    }\n",
       "\n",
       "    .dataframe thead th {\n",
       "        text-align: right;\n",
       "    }\n",
       "</style>\n",
       "<table border=\"1\" class=\"dataframe\">\n",
       "  <thead>\n",
       "    <tr style=\"text-align: right;\">\n",
       "      <th></th>\n",
       "      <th>Frequency</th>\n",
       "      <th>Amount</th>\n",
       "      <th>Recency</th>\n",
       "    </tr>\n",
       "  </thead>\n",
       "  <tbody>\n",
       "    <tr>\n",
       "      <th>2</th>\n",
       "      <td>31</td>\n",
       "      <td>1797.24</td>\n",
       "      <td>75</td>\n",
       "    </tr>\n",
       "    <tr>\n",
       "      <th>3</th>\n",
       "      <td>73</td>\n",
       "      <td>1757.55</td>\n",
       "      <td>18</td>\n",
       "    </tr>\n",
       "    <tr>\n",
       "      <th>5</th>\n",
       "      <td>95</td>\n",
       "      <td>1545.41</td>\n",
       "      <td>36</td>\n",
       "    </tr>\n",
       "    <tr>\n",
       "      <th>6</th>\n",
       "      <td>4</td>\n",
       "      <td>89.00</td>\n",
       "      <td>204</td>\n",
       "    </tr>\n",
       "    <tr>\n",
       "      <th>7</th>\n",
       "      <td>58</td>\n",
       "      <td>1079.40</td>\n",
       "      <td>232</td>\n",
       "    </tr>\n",
       "    <tr>\n",
       "      <th>...</th>\n",
       "      <td>...</td>\n",
       "      <td>...</td>\n",
       "      <td>...</td>\n",
       "    </tr>\n",
       "    <tr>\n",
       "      <th>4359</th>\n",
       "      <td>9</td>\n",
       "      <td>173.90</td>\n",
       "      <td>73</td>\n",
       "    </tr>\n",
       "    <tr>\n",
       "      <th>4361</th>\n",
       "      <td>7</td>\n",
       "      <td>80.82</td>\n",
       "      <td>180</td>\n",
       "    </tr>\n",
       "    <tr>\n",
       "      <th>4362</th>\n",
       "      <td>13</td>\n",
       "      <td>176.60</td>\n",
       "      <td>7</td>\n",
       "    </tr>\n",
       "    <tr>\n",
       "      <th>4369</th>\n",
       "      <td>28</td>\n",
       "      <td>345.66</td>\n",
       "      <td>58</td>\n",
       "    </tr>\n",
       "    <tr>\n",
       "      <th>4371</th>\n",
       "      <td>52</td>\n",
       "      <td>1148.86</td>\n",
       "      <td>0</td>\n",
       "    </tr>\n",
       "  </tbody>\n",
       "</table>\n",
       "<p>2810 rows × 3 columns</p>\n",
       "</div>"
      ],
      "text/plain": [
       "      Frequency   Amount  Recency\n",
       "2            31  1797.24       75\n",
       "3            73  1757.55       18\n",
       "5            95  1545.41       36\n",
       "6             4    89.00      204\n",
       "7            58  1079.40      232\n",
       "...         ...      ...      ...\n",
       "4359          9   173.90       73\n",
       "4361          7    80.82      180\n",
       "4362         13   176.60        7\n",
       "4369         28   345.66       58\n",
       "4371         52  1148.86        0\n",
       "\n",
       "[2810 rows x 3 columns]"
      ]
     },
     "execution_count": 74,
     "metadata": {},
     "output_type": "execute_result"
    }
   ],
   "source": [
    "RFM_norm1"
   ]
  },
  {
   "cell_type": "markdown",
   "id": "db1dedf7-cfdb-436e-8317-cd3bac7ab654",
   "metadata": {},
   "source": [
    "Scale the data in RFM_norm1"
   ]
  },
  {
   "cell_type": "code",
   "execution_count": 77,
   "id": "4455cc58-5c8b-48cf-8f6c-862e9c875e49",
   "metadata": {},
   "outputs": [
    {
     "data": {
      "text/html": [
       "<div>\n",
       "<style scoped>\n",
       "    .dataframe tbody tr th:only-of-type {\n",
       "        vertical-align: middle;\n",
       "    }\n",
       "\n",
       "    .dataframe tbody tr th {\n",
       "        vertical-align: top;\n",
       "    }\n",
       "\n",
       "    .dataframe thead th {\n",
       "        text-align: right;\n",
       "    }\n",
       "</style>\n",
       "<table border=\"1\" class=\"dataframe\">\n",
       "  <thead>\n",
       "    <tr style=\"text-align: right;\">\n",
       "      <th></th>\n",
       "      <th>Frequency</th>\n",
       "      <th>Amount</th>\n",
       "      <th>Recency</th>\n",
       "    </tr>\n",
       "  </thead>\n",
       "  <tbody>\n",
       "    <tr>\n",
       "      <th>0</th>\n",
       "      <td>-0.193775</td>\n",
       "      <td>2.787105</td>\n",
       "      <td>-0.055725</td>\n",
       "    </tr>\n",
       "    <tr>\n",
       "      <th>1</th>\n",
       "      <td>1.309995</td>\n",
       "      <td>2.696422</td>\n",
       "      <td>-0.934908</td>\n",
       "    </tr>\n",
       "    <tr>\n",
       "      <th>2</th>\n",
       "      <td>2.097683</td>\n",
       "      <td>2.211729</td>\n",
       "      <td>-0.657271</td>\n",
       "    </tr>\n",
       "    <tr>\n",
       "      <th>3</th>\n",
       "      <td>-1.160484</td>\n",
       "      <td>-1.115846</td>\n",
       "      <td>1.934005</td>\n",
       "    </tr>\n",
       "    <tr>\n",
       "      <th>4</th>\n",
       "      <td>0.772934</td>\n",
       "      <td>1.146999</td>\n",
       "      <td>2.365885</td>\n",
       "    </tr>\n",
       "  </tbody>\n",
       "</table>\n",
       "</div>"
      ],
      "text/plain": [
       "   Frequency    Amount   Recency\n",
       "0  -0.193775  2.787105 -0.055725\n",
       "1   1.309995  2.696422 -0.934908\n",
       "2   2.097683  2.211729 -0.657271\n",
       "3  -1.160484 -1.115846  1.934005\n",
       "4   0.772934  1.146999  2.365885"
      ]
     },
     "execution_count": 77,
     "metadata": {},
     "output_type": "execute_result"
    }
   ],
   "source": [
    "from sklearn.preprocessing import StandardScaler\n",
    "standard_scaler = StandardScaler()\n",
    "RFM_norm1 = standard_scaler.fit_transform(RFM_norm1)\n",
    "\n",
    "RFM_norm1 = pd.DataFrame(RFM_norm1)\n",
    "RFM_norm1.columns = ['Frequency','Amount','Recency']\n",
    "RFM_norm1.head()"
   ]
  },
  {
   "cell_type": "markdown",
   "id": "132ace66-ee17-4cf0-8ea3-05658f0f1b7a",
   "metadata": {},
   "source": [
    "Plot the **Sum of Squared Error** curve"
   ]
  },
  {
   "cell_type": "code",
   "execution_count": 78,
   "id": "df36be8b-d74c-4587-9b76-5e468409ebd6",
   "metadata": {},
   "outputs": [
    {
     "data": {
      "text/plain": [
       "Text(0.5, 1.0, 'SSE')"
      ]
     },
     "execution_count": 78,
     "metadata": {},
     "output_type": "execute_result"
    },
    {
     "data": {
      "image/png": "[encoded data removed]",
      "text/plain": [
       "<Figure size 432x288 with 1 Axes>"
      ]
     },
     "metadata": {
      "needs_background": "light"
     },
     "output_type": "display_data"
    }
   ],
   "source": [
    "from sklearn.metrics import silhouette_score\n",
    "sse_ = []\n",
    "for k in range(2, 15):\n",
    "    kmeans = KMeans(n_clusters=k).fit(RFM_norm1)\n",
    "    sse_.append([k, silhouette_score(RFM_norm1, kmeans.labels_)])\n",
    "\n",
    "\n",
    "plt.plot(pd.DataFrame(sse_)[0], pd.DataFrame(sse_)[1]);  # ERRor\n",
    "plt.title('SSE')\n"
   ]
  },
  {
   "cell_type": "markdown",
   "id": "5568bc94-9efd-4f87-b023-a843510dca69",
   "metadata": {},
   "source": [
    "Plot the **Sum of Squared Distance** curve also known as a elbow curve"
   ]
  },
  {
   "cell_type": "code",
   "execution_count": 79,
   "id": "e81c3b96-b994-40ea-b1dd-6b1824612af4",
   "metadata": {},
   "outputs": [
    {
     "data": {
      "text/plain": [
       "Text(0.5, 1.0, 'SSD')"
      ]
     },
     "execution_count": 79,
     "metadata": {},
     "output_type": "execute_result"
    },
    {
     "data": {
      "image/png": "[encoded data removed]",
      "text/plain": [
       "<Figure size 432x288 with 1 Axes>"
      ]
     },
     "metadata": {
      "needs_background": "light"
     },
     "output_type": "display_data"
    }
   ],
   "source": [
    "ssd = []\n",
    "for num_clusters in list(range(1,14)):\n",
    "    model_clus = KMeans(n_clusters = num_clusters, max_iter=100)\n",
    "    model_clus.fit(RFM_norm1)\n",
    "    ssd.append(model_clus.inertia_)\n",
    "plt.plot(ssd)\n",
    "plt.title('SSD')\n",
    "\n"
   ]
  },
  {
   "cell_type": "markdown",
   "id": "bfd8ec3e-3fe6-41b3-9a13-0db3d72c553b",
   "metadata": {},
   "source": [
    "From above graphs, we see the first significant change happens when number of clusters equals to 3"
   ]
  },
  {
   "cell_type": "code",
   "execution_count": 80,
   "id": "90248613-9c9b-4e06-bb68-5047b07fa2eb",
   "metadata": {},
   "outputs": [
    {
     "data": {
      "text/plain": [
       "KMeans(max_iter=100, n_clusters=3)"
      ]
     },
     "execution_count": 80,
     "metadata": {},
     "output_type": "execute_result"
    }
   ],
   "source": [
    "# So set Kmeans with K=3\n",
    "model_clus3 = KMeans(n_clusters = 3, max_iter=100)  #final cluster \n",
    "model_clus3.fit(RFM_norm1)"
   ]
  },
  {
   "cell_type": "code",
   "execution_count": 82,
   "id": "edc9f5a7-1f92-4bbe-a1e2-f85ff5be82fe",
   "metadata": {},
   "outputs": [
    {
     "data": {
      "text/html": [
       "<div>\n",
       "<style scoped>\n",
       "    .dataframe tbody tr th:only-of-type {\n",
       "        vertical-align: middle;\n",
       "    }\n",
       "\n",
       "    .dataframe tbody tr th {\n",
       "        vertical-align: top;\n",
       "    }\n",
       "\n",
       "    .dataframe thead th {\n",
       "        text-align: right;\n",
       "    }\n",
       "</style>\n",
       "<table border=\"1\" class=\"dataframe\">\n",
       "  <thead>\n",
       "    <tr style=\"text-align: right;\">\n",
       "      <th></th>\n",
       "      <th>Frequency</th>\n",
       "      <th>Amount</th>\n",
       "      <th>Recency</th>\n",
       "      <th>ClusterID</th>\n",
       "    </tr>\n",
       "  </thead>\n",
       "  <tbody>\n",
       "    <tr>\n",
       "      <th>0</th>\n",
       "      <td>-0.193775</td>\n",
       "      <td>2.787105</td>\n",
       "      <td>-0.055725</td>\n",
       "      <td>0</td>\n",
       "    </tr>\n",
       "    <tr>\n",
       "      <th>1</th>\n",
       "      <td>1.309995</td>\n",
       "      <td>2.696422</td>\n",
       "      <td>-0.934908</td>\n",
       "      <td>0</td>\n",
       "    </tr>\n",
       "    <tr>\n",
       "      <th>2</th>\n",
       "      <td>2.097683</td>\n",
       "      <td>2.211729</td>\n",
       "      <td>-0.657271</td>\n",
       "      <td>0</td>\n",
       "    </tr>\n",
       "    <tr>\n",
       "      <th>3</th>\n",
       "      <td>-1.160484</td>\n",
       "      <td>-1.115846</td>\n",
       "      <td>1.934005</td>\n",
       "      <td>1</td>\n",
       "    </tr>\n",
       "    <tr>\n",
       "      <th>4</th>\n",
       "      <td>0.772934</td>\n",
       "      <td>1.146999</td>\n",
       "      <td>2.365885</td>\n",
       "      <td>1</td>\n",
       "    </tr>\n",
       "    <tr>\n",
       "      <th>...</th>\n",
       "      <td>...</td>\n",
       "      <td>...</td>\n",
       "      <td>...</td>\n",
       "      <td>...</td>\n",
       "    </tr>\n",
       "    <tr>\n",
       "      <th>2805</th>\n",
       "      <td>-0.981464</td>\n",
       "      <td>-0.921868</td>\n",
       "      <td>-0.086573</td>\n",
       "      <td>2</td>\n",
       "    </tr>\n",
       "    <tr>\n",
       "      <th>2806</th>\n",
       "      <td>-1.053072</td>\n",
       "      <td>-1.134535</td>\n",
       "      <td>1.563823</td>\n",
       "      <td>1</td>\n",
       "    </tr>\n",
       "    <tr>\n",
       "      <th>2807</th>\n",
       "      <td>-0.838248</td>\n",
       "      <td>-0.915699</td>\n",
       "      <td>-1.104575</td>\n",
       "      <td>2</td>\n",
       "    </tr>\n",
       "    <tr>\n",
       "      <th>2808</th>\n",
       "      <td>-0.301187</td>\n",
       "      <td>-0.529435</td>\n",
       "      <td>-0.317937</td>\n",
       "      <td>2</td>\n",
       "    </tr>\n",
       "    <tr>\n",
       "      <th>2809</th>\n",
       "      <td>0.558110</td>\n",
       "      <td>1.305700</td>\n",
       "      <td>-1.212545</td>\n",
       "      <td>0</td>\n",
       "    </tr>\n",
       "  </tbody>\n",
       "</table>\n",
       "<p>2810 rows × 4 columns</p>\n",
       "</div>"
      ],
      "text/plain": [
       "      Frequency    Amount   Recency  ClusterID\n",
       "0     -0.193775  2.787105 -0.055725          0\n",
       "1      1.309995  2.696422 -0.934908          0\n",
       "2      2.097683  2.211729 -0.657271          0\n",
       "3     -1.160484 -1.115846  1.934005          1\n",
       "4      0.772934  1.146999  2.365885          1\n",
       "...         ...       ...       ...        ...\n",
       "2805  -0.981464 -0.921868 -0.086573          2\n",
       "2806  -1.053072 -1.134535  1.563823          1\n",
       "2807  -0.838248 -0.915699 -1.104575          2\n",
       "2808  -0.301187 -0.529435 -0.317937          2\n",
       "2809   0.558110  1.305700 -1.212545          0\n",
       "\n",
       "[2810 rows x 4 columns]"
      ]
     },
     "execution_count": 82,
     "metadata": {},
     "output_type": "execute_result"
    }
   ],
   "source": [
    "RFM_km2 = pd.concat([RFM_norm1, pd.Series(model_clus3.labels_)], axis=1)\n",
    "RFM_km2.columns = [ 'Frequency', 'Amount', 'Recency', 'ClusterID']\n",
    "RFM_km2"
   ]
  },
  {
   "cell_type": "code",
   "execution_count": 85,
   "id": "7d901308-2d3d-4f36-9166-50707b26960b",
   "metadata": {},
   "outputs": [
    {
     "data": {
      "text/html": [
       "<div>\n",
       "<style scoped>\n",
       "    .dataframe tbody tr th:only-of-type {\n",
       "        vertical-align: middle;\n",
       "    }\n",
       "\n",
       "    .dataframe tbody tr th {\n",
       "        vertical-align: top;\n",
       "    }\n",
       "\n",
       "    .dataframe thead th {\n",
       "        text-align: right;\n",
       "    }\n",
       "</style>\n",
       "<table border=\"1\" class=\"dataframe\">\n",
       "  <thead>\n",
       "    <tr style=\"text-align: right;\">\n",
       "      <th></th>\n",
       "      <th>Frequency</th>\n",
       "      <th>Amount</th>\n",
       "      <th>Recency</th>\n",
       "      <th>ClusterID</th>\n",
       "    </tr>\n",
       "  </thead>\n",
       "  <tbody>\n",
       "    <tr>\n",
       "      <th>0</th>\n",
       "      <td>-0.193775</td>\n",
       "      <td>2.787105</td>\n",
       "      <td>-0.055725</td>\n",
       "      <td>0</td>\n",
       "    </tr>\n",
       "    <tr>\n",
       "      <th>1</th>\n",
       "      <td>1.309995</td>\n",
       "      <td>2.696422</td>\n",
       "      <td>-0.934908</td>\n",
       "      <td>0</td>\n",
       "    </tr>\n",
       "    <tr>\n",
       "      <th>2</th>\n",
       "      <td>2.097683</td>\n",
       "      <td>2.211729</td>\n",
       "      <td>-0.657271</td>\n",
       "      <td>0</td>\n",
       "    </tr>\n",
       "    <tr>\n",
       "      <th>3</th>\n",
       "      <td>-1.160484</td>\n",
       "      <td>-1.115846</td>\n",
       "      <td>1.934005</td>\n",
       "      <td>1</td>\n",
       "    </tr>\n",
       "    <tr>\n",
       "      <th>4</th>\n",
       "      <td>0.772934</td>\n",
       "      <td>1.146999</td>\n",
       "      <td>2.365885</td>\n",
       "      <td>1</td>\n",
       "    </tr>\n",
       "    <tr>\n",
       "      <th>...</th>\n",
       "      <td>...</td>\n",
       "      <td>...</td>\n",
       "      <td>...</td>\n",
       "      <td>...</td>\n",
       "    </tr>\n",
       "    <tr>\n",
       "      <th>2805</th>\n",
       "      <td>-0.981464</td>\n",
       "      <td>-0.921868</td>\n",
       "      <td>-0.086573</td>\n",
       "      <td>2</td>\n",
       "    </tr>\n",
       "    <tr>\n",
       "      <th>2806</th>\n",
       "      <td>-1.053072</td>\n",
       "      <td>-1.134535</td>\n",
       "      <td>1.563823</td>\n",
       "      <td>1</td>\n",
       "    </tr>\n",
       "    <tr>\n",
       "      <th>2807</th>\n",
       "      <td>-0.838248</td>\n",
       "      <td>-0.915699</td>\n",
       "      <td>-1.104575</td>\n",
       "      <td>2</td>\n",
       "    </tr>\n",
       "    <tr>\n",
       "      <th>2808</th>\n",
       "      <td>-0.301187</td>\n",
       "      <td>-0.529435</td>\n",
       "      <td>-0.317937</td>\n",
       "      <td>2</td>\n",
       "    </tr>\n",
       "    <tr>\n",
       "      <th>2809</th>\n",
       "      <td>0.558110</td>\n",
       "      <td>1.305700</td>\n",
       "      <td>-1.212545</td>\n",
       "      <td>0</td>\n",
       "    </tr>\n",
       "  </tbody>\n",
       "</table>\n",
       "<p>2810 rows × 4 columns</p>\n",
       "</div>"
      ],
      "text/plain": [
       "      Frequency    Amount   Recency  ClusterID\n",
       "0     -0.193775  2.787105 -0.055725          0\n",
       "1      1.309995  2.696422 -0.934908          0\n",
       "2      2.097683  2.211729 -0.657271          0\n",
       "3     -1.160484 -1.115846  1.934005          1\n",
       "4      0.772934  1.146999  2.365885          1\n",
       "...         ...       ...       ...        ...\n",
       "2805  -0.981464 -0.921868 -0.086573          2\n",
       "2806  -1.053072 -1.134535  1.563823          1\n",
       "2807  -0.838248 -0.915699 -1.104575          2\n",
       "2808  -0.301187 -0.529435 -0.317937          2\n",
       "2809   0.558110  1.305700 -1.212545          0\n",
       "\n",
       "[2810 rows x 4 columns]"
      ]
     },
     "execution_count": 85,
     "metadata": {},
     "output_type": "execute_result"
    }
   ],
   "source": [
    "RFM_km2 = RFM_km2.dropna()\n",
    "RFM_km2"
   ]
  },
  {
   "cell_type": "code",
   "execution_count": 86,
   "id": "d22111e3-17c9-473e-9dec-4cf215987ef8",
   "metadata": {},
   "outputs": [
    {
     "data": {
      "text/html": [
       "<div>\n",
       "<style scoped>\n",
       "    .dataframe tbody tr th:only-of-type {\n",
       "        vertical-align: middle;\n",
       "    }\n",
       "\n",
       "    .dataframe tbody tr th {\n",
       "        vertical-align: top;\n",
       "    }\n",
       "\n",
       "    .dataframe thead th {\n",
       "        text-align: right;\n",
       "    }\n",
       "</style>\n",
       "<table border=\"1\" class=\"dataframe\">\n",
       "  <thead>\n",
       "    <tr style=\"text-align: right;\">\n",
       "      <th></th>\n",
       "      <th>Frequency</th>\n",
       "      <th>Amount</th>\n",
       "      <th>Recency</th>\n",
       "      <th>ClusterID</th>\n",
       "    </tr>\n",
       "  </thead>\n",
       "  <tbody>\n",
       "    <tr>\n",
       "      <th>0</th>\n",
       "      <td>-0.193775</td>\n",
       "      <td>2.787105</td>\n",
       "      <td>-0.055725</td>\n",
       "      <td>0</td>\n",
       "    </tr>\n",
       "    <tr>\n",
       "      <th>1</th>\n",
       "      <td>1.309995</td>\n",
       "      <td>2.696422</td>\n",
       "      <td>-0.934908</td>\n",
       "      <td>0</td>\n",
       "    </tr>\n",
       "    <tr>\n",
       "      <th>2</th>\n",
       "      <td>2.097683</td>\n",
       "      <td>2.211729</td>\n",
       "      <td>-0.657271</td>\n",
       "      <td>0</td>\n",
       "    </tr>\n",
       "    <tr>\n",
       "      <th>3</th>\n",
       "      <td>-1.160484</td>\n",
       "      <td>-1.115846</td>\n",
       "      <td>1.934005</td>\n",
       "      <td>1</td>\n",
       "    </tr>\n",
       "    <tr>\n",
       "      <th>4</th>\n",
       "      <td>0.772934</td>\n",
       "      <td>1.146999</td>\n",
       "      <td>2.365885</td>\n",
       "      <td>1</td>\n",
       "    </tr>\n",
       "  </tbody>\n",
       "</table>\n",
       "</div>"
      ],
      "text/plain": [
       "   Frequency    Amount   Recency  ClusterID\n",
       "0  -0.193775  2.787105 -0.055725          0\n",
       "1   1.309995  2.696422 -0.934908          0\n",
       "2   2.097683  2.211729 -0.657271          0\n",
       "3  -1.160484 -1.115846  1.934005          1\n",
       "4   0.772934  1.146999  2.365885          1"
      ]
     },
     "execution_count": 86,
     "metadata": {},
     "output_type": "execute_result"
    }
   ],
   "source": [
    "km_clusters_amount11 = \tpd.DataFrame(RFM_km2.groupby([\"ClusterID\"]).Amount.mean())\n",
    "km_clusters_frequency11 = \tpd.DataFrame(RFM_km2.groupby([\"ClusterID\"]).Frequency.mean())\n",
    "km_clusters_recency11 = \tpd.DataFrame(RFM_km2.groupby([\"ClusterID\"]).Recency.mean())\n",
    "RFM_km2.head()"
   ]
  },
  {
   "cell_type": "code",
   "execution_count": 87,
   "id": "3a86620c-2718-4c51-9317-ac905eb66a9a",
   "metadata": {},
   "outputs": [
    {
     "name": "stdout",
     "output_type": "stream",
     "text": [
      "<class 'pandas.core.frame.DataFrame'>\n",
      "RangeIndex: 3 entries, 0 to 2\n",
      "Data columns (total 4 columns):\n",
      " #   Column          Non-Null Count  Dtype  \n",
      "---  ------          --------------  -----  \n",
      " 0   ClusterID       3 non-null      int64  \n",
      " 1   Amount_mean     3 non-null      float64\n",
      " 2   Frequency_mean  3 non-null      float64\n",
      " 3   Recency_mean    3 non-null      float64\n",
      "dtypes: float64(3), int64(1)\n",
      "memory usage: 224.0 bytes\n"
     ]
    },
    {
     "data": {
      "text/html": [
       "<div>\n",
       "<style scoped>\n",
       "    .dataframe tbody tr th:only-of-type {\n",
       "        vertical-align: middle;\n",
       "    }\n",
       "\n",
       "    .dataframe tbody tr th {\n",
       "        vertical-align: top;\n",
       "    }\n",
       "\n",
       "    .dataframe thead th {\n",
       "        text-align: right;\n",
       "    }\n",
       "</style>\n",
       "<table border=\"1\" class=\"dataframe\">\n",
       "  <thead>\n",
       "    <tr style=\"text-align: right;\">\n",
       "      <th></th>\n",
       "      <th>ClusterID</th>\n",
       "      <th>Amount_mean</th>\n",
       "      <th>Frequency_mean</th>\n",
       "      <th>Recency_mean</th>\n",
       "    </tr>\n",
       "  </thead>\n",
       "  <tbody>\n",
       "    <tr>\n",
       "      <th>0</th>\n",
       "      <td>0</td>\n",
       "      <td>1.167804</td>\n",
       "      <td>1.177920</td>\n",
       "      <td>-0.451292</td>\n",
       "    </tr>\n",
       "    <tr>\n",
       "      <th>1</th>\n",
       "      <td>1</td>\n",
       "      <td>-0.559533</td>\n",
       "      <td>-0.563539</td>\n",
       "      <td>1.295000</td>\n",
       "    </tr>\n",
       "    <tr>\n",
       "      <th>2</th>\n",
       "      <td>2</td>\n",
       "      <td>-0.420260</td>\n",
       "      <td>-0.424453</td>\n",
       "      <td>-0.545145</td>\n",
       "    </tr>\n",
       "  </tbody>\n",
       "</table>\n",
       "</div>"
      ],
      "text/plain": [
       "   ClusterID  Amount_mean  Frequency_mean  Recency_mean\n",
       "0          0     1.167804        1.177920     -0.451292\n",
       "1          1    -0.559533       -0.563539      1.295000\n",
       "2          2    -0.420260       -0.424453     -0.545145"
      ]
     },
     "execution_count": 87,
     "metadata": {},
     "output_type": "execute_result"
    }
   ],
   "source": [
    "df11 = pd.concat([pd.Series([0,1,2]), km_clusters_amount11, km_clusters_frequency11, km_clusters_recency11], axis=1)\n",
    "df11.columns = [\"ClusterID\", \"Amount_mean\", \"Frequency_mean\", \"Recency_mean\"]\n",
    "df11.info()\n",
    "df11.head()"
   ]
  },
  {
   "cell_type": "code",
   "execution_count": 88,
   "id": "62110ad0-ca8b-4f4e-9a7b-7123bf8bad06",
   "metadata": {},
   "outputs": [
    {
     "data": {
      "text/plain": [
       "[Text(0.5, 1.0, 'Amount mean for each Cluster')]"
      ]
     },
     "execution_count": 88,
     "metadata": {},
     "output_type": "execute_result"
    },
    {
     "data": {
      "image/png": "[encoded data removed]",
      "text/plain": [
       "<Figure size 432x288 with 1 Axes>"
      ]
     },
     "metadata": {
      "needs_background": "light"
     },
     "output_type": "display_data"
    }
   ],
   "source": [
    "\n",
    "sns.barplot(x=df11.ClusterID, y=df11.Amount_mean).set(title='Amount mean for each Cluster')\n"
   ]
  },
  {
   "cell_type": "code",
   "execution_count": 89,
   "id": "5946a114-dec0-452d-8cf3-c54f7dfa79d8",
   "metadata": {},
   "outputs": [
    {
     "data": {
      "text/plain": [
       "[Text(0.5, 1.0, 'Frequency mean for each Cluster')]"
      ]
     },
     "execution_count": 89,
     "metadata": {},
     "output_type": "execute_result"
    },
    {
     "data": {
      "image/png": "[encoded data removed]",
      "text/plain": [
       "<Figure size 432x288 with 1 Axes>"
      ]
     },
     "metadata": {
      "needs_background": "light"
     },
     "output_type": "display_data"
    }
   ],
   "source": [
    "sns.barplot(x=df11.ClusterID, y=df11.Frequency_mean).set(title='Frequency mean for each Cluster')"
   ]
  },
  {
   "cell_type": "code",
   "execution_count": 90,
   "id": "7a448df1-748a-4ab0-bb65-d5668e1d44be",
   "metadata": {},
   "outputs": [
    {
     "data": {
      "text/plain": [
       "[Text(0.5, 1.0, 'Recency mean for each Cluster')]"
      ]
     },
     "execution_count": 90,
     "metadata": {},
     "output_type": "execute_result"
    },
    {
     "data": {
      "image/png": "[encoded data removed]",
      "text/plain": [
       "<Figure size 432x288 with 1 Axes>"
      ]
     },
     "metadata": {
      "needs_background": "light"
     },
     "output_type": "display_data"
    }
   ],
   "source": [
    "sns.barplot(x=df11.ClusterID, y=df11.Recency_mean).set(title='Recency mean for each Cluster')"
   ]
  },
  {
   "cell_type": "code",
   "execution_count": 92,
   "id": "96a9b5ab-fddf-43f9-89fe-a326272fec95",
   "metadata": {},
   "outputs": [
    {
     "data": {
      "image/png": "[encoded data removed]",
      "text/plain": [
       "<Figure size 432x288 with 1 Axes>"
      ]
     },
     "metadata": {
      "needs_background": "light"
     },
     "output_type": "display_data"
    }
   ],
   "source": [
    "mergings = linkage(RFM_km2, method = \"single\", metric='euclidean')\n",
    "dendrogram(mergings)\n",
    "plt.show()"
   ]
  },
  {
   "cell_type": "code",
   "execution_count": 94,
   "id": "1b6db754-8755-40d4-8aac-b8c8a2ed5ef5",
   "metadata": {},
   "outputs": [
    {
     "data": {
      "image/png": "[encoded data removed]",
      "text/plain": [
       "<Figure size 432x288 with 1 Axes>"
      ]
     },
     "metadata": {
      "needs_background": "light"
     },
     "output_type": "display_data"
    }
   ],
   "source": [
    "mergings = linkage(RFM_km2, method = \"complete\", metric='euclidean')\n",
    "dendrogram(mergings)\n",
    "plt.show()"
   ]
  },
  {
   "cell_type": "code",
   "execution_count": 96,
   "id": "7227537c-eb23-4602-ba77-e5aa35857828",
   "metadata": {},
   "outputs": [
    {
     "data": {
      "text/html": [
       "<div>\n",
       "<style scoped>\n",
       "    .dataframe tbody tr th:only-of-type {\n",
       "        vertical-align: middle;\n",
       "    }\n",
       "\n",
       "    .dataframe tbody tr th {\n",
       "        vertical-align: top;\n",
       "    }\n",
       "\n",
       "    .dataframe thead th {\n",
       "        text-align: right;\n",
       "    }\n",
       "</style>\n",
       "<table border=\"1\" class=\"dataframe\">\n",
       "  <thead>\n",
       "    <tr style=\"text-align: right;\">\n",
       "      <th></th>\n",
       "      <th>Frequency</th>\n",
       "      <th>Amount</th>\n",
       "      <th>Recency</th>\n",
       "      <th>ClusterID</th>\n",
       "    </tr>\n",
       "  </thead>\n",
       "  <tbody>\n",
       "    <tr>\n",
       "      <th>0</th>\n",
       "      <td>-0.193775</td>\n",
       "      <td>2.787105</td>\n",
       "      <td>-0.055725</td>\n",
       "      <td>0</td>\n",
       "    </tr>\n",
       "    <tr>\n",
       "      <th>1</th>\n",
       "      <td>1.309995</td>\n",
       "      <td>2.696422</td>\n",
       "      <td>-0.934908</td>\n",
       "      <td>0</td>\n",
       "    </tr>\n",
       "    <tr>\n",
       "      <th>2</th>\n",
       "      <td>2.097683</td>\n",
       "      <td>2.211729</td>\n",
       "      <td>-0.657271</td>\n",
       "      <td>0</td>\n",
       "    </tr>\n",
       "    <tr>\n",
       "      <th>3</th>\n",
       "      <td>-1.160484</td>\n",
       "      <td>-1.115846</td>\n",
       "      <td>1.934005</td>\n",
       "      <td>1</td>\n",
       "    </tr>\n",
       "    <tr>\n",
       "      <th>4</th>\n",
       "      <td>0.772934</td>\n",
       "      <td>1.146999</td>\n",
       "      <td>2.365885</td>\n",
       "      <td>1</td>\n",
       "    </tr>\n",
       "    <tr>\n",
       "      <th>...</th>\n",
       "      <td>...</td>\n",
       "      <td>...</td>\n",
       "      <td>...</td>\n",
       "      <td>...</td>\n",
       "    </tr>\n",
       "    <tr>\n",
       "      <th>2805</th>\n",
       "      <td>-0.981464</td>\n",
       "      <td>-0.921868</td>\n",
       "      <td>-0.086573</td>\n",
       "      <td>2</td>\n",
       "    </tr>\n",
       "    <tr>\n",
       "      <th>2806</th>\n",
       "      <td>-1.053072</td>\n",
       "      <td>-1.134535</td>\n",
       "      <td>1.563823</td>\n",
       "      <td>2</td>\n",
       "    </tr>\n",
       "    <tr>\n",
       "      <th>2807</th>\n",
       "      <td>-0.838248</td>\n",
       "      <td>-0.915699</td>\n",
       "      <td>-1.104575</td>\n",
       "      <td>2</td>\n",
       "    </tr>\n",
       "    <tr>\n",
       "      <th>2808</th>\n",
       "      <td>-0.301187</td>\n",
       "      <td>-0.529435</td>\n",
       "      <td>-0.317937</td>\n",
       "      <td>2</td>\n",
       "    </tr>\n",
       "    <tr>\n",
       "      <th>2809</th>\n",
       "      <td>0.558110</td>\n",
       "      <td>1.305700</td>\n",
       "      <td>-1.212545</td>\n",
       "      <td>0</td>\n",
       "    </tr>\n",
       "  </tbody>\n",
       "</table>\n",
       "<p>2810 rows × 4 columns</p>\n",
       "</div>"
      ],
      "text/plain": [
       "      Frequency    Amount   Recency  ClusterID\n",
       "0     -0.193775  2.787105 -0.055725          0\n",
       "1      1.309995  2.696422 -0.934908          0\n",
       "2      2.097683  2.211729 -0.657271          0\n",
       "3     -1.160484 -1.115846  1.934005          1\n",
       "4      0.772934  1.146999  2.365885          1\n",
       "...         ...       ...       ...        ...\n",
       "2805  -0.981464 -0.921868 -0.086573          2\n",
       "2806  -1.053072 -1.134535  1.563823          2\n",
       "2807  -0.838248 -0.915699 -1.104575          2\n",
       "2808  -0.301187 -0.529435 -0.317937          2\n",
       "2809   0.558110  1.305700 -1.212545          0\n",
       "\n",
       "[2810 rows x 4 columns]"
      ]
     },
     "execution_count": 96,
     "metadata": {},
     "output_type": "execute_result"
    }
   ],
   "source": [
    "clusterCut = pd.Series(cut_tree(mergings, n_clusters = 3).reshape(-1,))\n",
    "RFM_hc = pd.concat([RFM_norm1, clusterCut], axis=1)\n",
    "RFM_hc.columns = [ 'Frequency', 'Amount', 'Recency', 'ClusterID']\n",
    "RFM_hc = RFM_hc.dropna()\n",
    "RFM_hc"
   ]
  },
  {
   "cell_type": "code",
   "execution_count": 98,
   "id": "9e08295b-47c1-44d4-9694-9324282cc2ed",
   "metadata": {},
   "outputs": [
    {
     "data": {
      "text/html": [
       "<div>\n",
       "<style scoped>\n",
       "    .dataframe tbody tr th:only-of-type {\n",
       "        vertical-align: middle;\n",
       "    }\n",
       "\n",
       "    .dataframe tbody tr th {\n",
       "        vertical-align: top;\n",
       "    }\n",
       "\n",
       "    .dataframe thead th {\n",
       "        text-align: right;\n",
       "    }\n",
       "</style>\n",
       "<table border=\"1\" class=\"dataframe\">\n",
       "  <thead>\n",
       "    <tr style=\"text-align: right;\">\n",
       "      <th></th>\n",
       "      <th>Amount</th>\n",
       "    </tr>\n",
       "    <tr>\n",
       "      <th>ClusterID</th>\n",
       "      <th></th>\n",
       "    </tr>\n",
       "  </thead>\n",
       "  <tbody>\n",
       "    <tr>\n",
       "      <th>0</th>\n",
       "      <td>1.170058</td>\n",
       "    </tr>\n",
       "    <tr>\n",
       "      <th>1</th>\n",
       "      <td>-0.448210</td>\n",
       "    </tr>\n",
       "    <tr>\n",
       "      <th>2</th>\n",
       "      <td>-0.470329</td>\n",
       "    </tr>\n",
       "  </tbody>\n",
       "</table>\n",
       "</div>"
      ],
      "text/plain": [
       "             Amount\n",
       "ClusterID          \n",
       "0          1.170058\n",
       "1         -0.448210\n",
       "2         -0.470329"
      ]
     },
     "execution_count": 98,
     "metadata": {},
     "output_type": "execute_result"
    }
   ],
   "source": [
    "km_clusters_amount2 = \tpd.DataFrame(RFM_hc.groupby([\"ClusterID\"]).Amount.mean())\n",
    "km_clusters_amount2\n"
   ]
  },
  {
   "cell_type": "code",
   "execution_count": 99,
   "id": "86714204-f1b8-40e4-ad98-6650300aa7ef",
   "metadata": {},
   "outputs": [
    {
     "data": {
      "text/html": [
       "<div>\n",
       "<style scoped>\n",
       "    .dataframe tbody tr th:only-of-type {\n",
       "        vertical-align: middle;\n",
       "    }\n",
       "\n",
       "    .dataframe tbody tr th {\n",
       "        vertical-align: top;\n",
       "    }\n",
       "\n",
       "    .dataframe thead th {\n",
       "        text-align: right;\n",
       "    }\n",
       "</style>\n",
       "<table border=\"1\" class=\"dataframe\">\n",
       "  <thead>\n",
       "    <tr style=\"text-align: right;\">\n",
       "      <th></th>\n",
       "      <th>Frequency</th>\n",
       "    </tr>\n",
       "    <tr>\n",
       "      <th>ClusterID</th>\n",
       "      <th></th>\n",
       "    </tr>\n",
       "  </thead>\n",
       "  <tbody>\n",
       "    <tr>\n",
       "      <th>0</th>\n",
       "      <td>1.173528</td>\n",
       "    </tr>\n",
       "    <tr>\n",
       "      <th>1</th>\n",
       "      <td>-0.302529</td>\n",
       "    </tr>\n",
       "    <tr>\n",
       "      <th>2</th>\n",
       "      <td>-0.502418</td>\n",
       "    </tr>\n",
       "  </tbody>\n",
       "</table>\n",
       "</div>"
      ],
      "text/plain": [
       "           Frequency\n",
       "ClusterID           \n",
       "0           1.173528\n",
       "1          -0.302529\n",
       "2          -0.502418"
      ]
     },
     "execution_count": 99,
     "metadata": {},
     "output_type": "execute_result"
    }
   ],
   "source": [
    "km_clusters_frequency2 = \tpd.DataFrame(RFM_hc.groupby([\"ClusterID\"]).Frequency.mean())\n",
    "km_clusters_frequency2\n"
   ]
  },
  {
   "cell_type": "code",
   "execution_count": 100,
   "id": "742be10b-e768-43b1-9cc4-44ff54a8b662",
   "metadata": {},
   "outputs": [
    {
     "data": {
      "text/html": [
       "<div>\n",
       "<style scoped>\n",
       "    .dataframe tbody tr th:only-of-type {\n",
       "        vertical-align: middle;\n",
       "    }\n",
       "\n",
       "    .dataframe tbody tr th {\n",
       "        vertical-align: top;\n",
       "    }\n",
       "\n",
       "    .dataframe thead th {\n",
       "        text-align: right;\n",
       "    }\n",
       "</style>\n",
       "<table border=\"1\" class=\"dataframe\">\n",
       "  <thead>\n",
       "    <tr style=\"text-align: right;\">\n",
       "      <th></th>\n",
       "      <th>Recency</th>\n",
       "    </tr>\n",
       "    <tr>\n",
       "      <th>ClusterID</th>\n",
       "      <th></th>\n",
       "    </tr>\n",
       "  </thead>\n",
       "  <tbody>\n",
       "    <tr>\n",
       "      <th>0</th>\n",
       "      <td>-0.482328</td>\n",
       "    </tr>\n",
       "    <tr>\n",
       "      <th>1</th>\n",
       "      <td>1.898312</td>\n",
       "    </tr>\n",
       "    <tr>\n",
       "      <th>2</th>\n",
       "      <td>-0.163880</td>\n",
       "    </tr>\n",
       "  </tbody>\n",
       "</table>\n",
       "</div>"
      ],
      "text/plain": [
       "            Recency\n",
       "ClusterID          \n",
       "0         -0.482328\n",
       "1          1.898312\n",
       "2         -0.163880"
      ]
     },
     "execution_count": 100,
     "metadata": {},
     "output_type": "execute_result"
    }
   ],
   "source": [
    "km_clusters_recency2 = \tpd.DataFrame(RFM_hc.groupby([\"ClusterID\"]).Recency.mean())\n",
    "km_clusters_recency2"
   ]
  },
  {
   "cell_type": "code",
   "execution_count": 104,
   "id": "2e29ff17-0a1f-4a7f-8656-4dbd54c481b7",
   "metadata": {},
   "outputs": [
    {
     "data": {
      "text/html": [
       "<div>\n",
       "<style scoped>\n",
       "    .dataframe tbody tr th:only-of-type {\n",
       "        vertical-align: middle;\n",
       "    }\n",
       "\n",
       "    .dataframe tbody tr th {\n",
       "        vertical-align: top;\n",
       "    }\n",
       "\n",
       "    .dataframe thead th {\n",
       "        text-align: right;\n",
       "    }\n",
       "</style>\n",
       "<table border=\"1\" class=\"dataframe\">\n",
       "  <thead>\n",
       "    <tr style=\"text-align: right;\">\n",
       "      <th></th>\n",
       "      <th>ClusterID</th>\n",
       "      <th>Amount_mean</th>\n",
       "      <th>Frequency_mean</th>\n",
       "      <th>Recency_mean</th>\n",
       "    </tr>\n",
       "  </thead>\n",
       "  <tbody>\n",
       "    <tr>\n",
       "      <th>0</th>\n",
       "      <td>0</td>\n",
       "      <td>1.170058</td>\n",
       "      <td>1.173528</td>\n",
       "      <td>-0.482328</td>\n",
       "    </tr>\n",
       "    <tr>\n",
       "      <th>1</th>\n",
       "      <td>1</td>\n",
       "      <td>-0.448210</td>\n",
       "      <td>-0.302529</td>\n",
       "      <td>1.898312</td>\n",
       "    </tr>\n",
       "    <tr>\n",
       "      <th>2</th>\n",
       "      <td>2</td>\n",
       "      <td>-0.470329</td>\n",
       "      <td>-0.502418</td>\n",
       "      <td>-0.163880</td>\n",
       "    </tr>\n",
       "  </tbody>\n",
       "</table>\n",
       "</div>"
      ],
      "text/plain": [
       "   ClusterID  Amount_mean  Frequency_mean  Recency_mean\n",
       "0          0     1.170058        1.173528     -0.482328\n",
       "1          1    -0.448210       -0.302529      1.898312\n",
       "2          2    -0.470329       -0.502418     -0.163880"
      ]
     },
     "execution_count": 104,
     "metadata": {},
     "output_type": "execute_result"
    }
   ],
   "source": [
    "df2 = pd.concat([pd.Series([0,1,2]), km_clusters_amount2, km_clusters_frequency2, km_clusters_recency2], axis=1)\n",
    "df2.columns = [\"ClusterID\", \"Amount_mean\", \"Frequency_mean\", \"Recency_mean\"]\n",
    "df2"
   ]
  },
  {
   "cell_type": "code",
   "execution_count": 105,
   "id": "bcc5ea48-7052-4e7b-8891-9df58fb5f5b9",
   "metadata": {},
   "outputs": [
    {
     "data": {
      "text/plain": [
       "[Text(0.5, 1.0, 'Amount mean for each Cluster')]"
      ]
     },
     "execution_count": 105,
     "metadata": {},
     "output_type": "execute_result"
    },
    {
     "data": {
      "image/png": "[encoded data removed]",
      "text/plain": [
       "<Figure size 432x288 with 1 Axes>"
      ]
     },
     "metadata": {
      "needs_background": "light"
     },
     "output_type": "display_data"
    }
   ],
   "source": [
    "sns.barplot(x=df2.ClusterID, y=df2.Amount_mean).set(title='Amount mean for each Cluster')\n",
    "\n"
   ]
  },
  {
   "cell_type": "code",
   "execution_count": 106,
   "id": "f4eb1b6b-4c1d-411a-9895-6bbcfbb16d3f",
   "metadata": {},
   "outputs": [
    {
     "data": {
      "text/plain": [
       "[Text(0.5, 1.0, 'Frequency mean for each Cluster')]"
      ]
     },
     "execution_count": 106,
     "metadata": {},
     "output_type": "execute_result"
    },
    {
     "data": {
      "image/png": "[encoded data removed]",
      "text/plain": [
       "<Figure size 432x288 with 1 Axes>"
      ]
     },
     "metadata": {
      "needs_background": "light"
     },
     "output_type": "display_data"
    }
   ],
   "source": [
    "sns.barplot(x=df2.ClusterID, y=df2.Frequency_mean).set(title='Frequency mean for each Cluster')\n"
   ]
  },
  {
   "cell_type": "code",
   "execution_count": 107,
   "id": "8ebd4b7f-4f7c-4723-a6e5-7656ba62ae50",
   "metadata": {},
   "outputs": [
    {
     "data": {
      "text/plain": [
       "[Text(0.5, 1.0, 'Recency mean for each Cluster')]"
      ]
     },
     "execution_count": 107,
     "metadata": {},
     "output_type": "execute_result"
    },
    {
     "data": {
      "image/png": "[encoded data removed]",
      "text/plain": [
       "<Figure size 432x288 with 1 Axes>"
      ]
     },
     "metadata": {
      "needs_background": "light"
     },
     "output_type": "display_data"
    }
   ],
   "source": [
    "\n",
    "sns.barplot(x=df2.ClusterID, y=df2.Recency_mean).set(title='Recency mean for each Cluster')\n"
   ]
  },
  {
   "cell_type": "code",
   "execution_count": 108,
   "id": "5eb6fc1f-7eb8-4398-ad82-9fa706111981",
   "metadata": {},
   "outputs": [
    {
     "name": "stderr",
     "output_type": "stream",
     "text": [
      "/var/folders/vm/t0kfdtyd4j976j7k67x7nvpw0000gn/T/ipykernel_16517/182038191.py:6: MatplotlibDeprecationWarning: Axes3D(fig) adding itself to the figure is deprecated since 3.4. Pass the keyword argument auto_add_to_figure=False and use fig.add_axes(ax) to suppress this warning. The default value of auto_add_to_figure will change to False in mpl3.5 and True values will no longer work in 3.6.  This is consistent with other Axes classes.\n",
      "  ax=Axes3D(figure,elev=30,azim=150)\n"
     ]
    },
    {
     "data": {
      "image/png": "[encoded data removed]",
      "text/plain": [
       "<Figure size 576x720 with 1 Axes>"
      ]
     },
     "metadata": {
      "needs_background": "light"
     },
     "output_type": "display_data"
    }
   ],
   "source": [
    "import matplotlib.pyplot as plt\n",
    "from mpl_toolkits.mplot3d import Axes3D,axes3d\n",
    "\n",
    "\n",
    "figure=plt.figure(figsize=(12,7))\n",
    "ax=Axes3D(figure,elev=30,azim=150)\n",
    "\n",
    "\n",
    "RFM_km_group1 = RFM_hc[RFM_hc['ClusterID']==0]\n",
    "RFM_km_group2 = RFM_hc[RFM_hc['ClusterID']==1]\n",
    "RFM_km_group3 = RFM_hc[RFM_hc['ClusterID']==2]\n",
    "\n",
    "\n",
    "figure.set_size_inches(8,10)\n",
    "\n",
    "ax.scatter(RFM_km_group1.loc[:,['Recency']],\n",
    "RFM_km_group1.loc[:,['Frequency']],\n",
    "RFM_km_group1.loc[:,['Amount']],s=5,c = 'blue' )\n",
    "\n",
    "ax.scatter(RFM_km_group2.loc[:,['Recency']],\n",
    "           RFM_km_group2.loc[:,['Frequency']],\n",
    "           RFM_km_group2.loc[:,['Amount']],s=5,c = 'orange')\n",
    "\n",
    "ax.scatter(RFM_km_group3.loc[:,['Recency']],\n",
    "           RFM_km_group3.loc[:,['Frequency']],\n",
    "           RFM_km_group3.loc[:,['Amount']],s=5,c = 'green')\n",
    "\n",
    "ax.set_xlabel('Recency')\n",
    "ax.set_ylabel('Frequency')\n",
    "ax.set_zlabel('Monetary')\n",
    "plt.legend(map(lambda x:str(x),range(0,3)))\n",
    "plt.legend(['ClusterID=0','ClusterID=1','ClusterID=2'])\n",
    "plt.title('3d scatter plot of recency, frequency, monetary values')\n",
    "\n",
    "plt.show()"
   ]
  },
  {
   "cell_type": "code",
   "execution_count": null,
   "id": "aaab4f9e-f9c4-47c4-84de-7c55d151287b",
   "metadata": {},
   "outputs": [],
   "source": [
    "ALL the users in group zero appears to be the most valueable users since they contains the highest moteary value, highest frequency value and least rencency value.\\\n",
    "Users in group one and two appears to be the less active users, I suggest to try a diffen"
   ]
  }
 ],
 "metadata": {
  "kernelspec": {
   "display_name": "Python 3 (ipykernel)",
   "language": "python",
   "name": "python3"
  },
  "language_info": {
   "codemirror_mode": {
    "name": "ipython",
    "version": 3
   },
   "file_extension": ".py",
   "mimetype": "text/x-python",
   "name": "python",
   "nbconvert_exporter": "python",
   "pygments_lexer": "ipython3",
   "version": "3.9.7"
  }
 },
 "nbformat": 4,
 "nbformat_minor": 5
}
